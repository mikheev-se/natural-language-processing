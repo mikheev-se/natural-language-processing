{
  "nbformat": 4,
  "nbformat_minor": 2,
  "metadata": {
    "colab": {
      "name": "nlp-1.ipynb",
      "provenance": [],
      "collapsed_sections": [],
      "toc_visible": true
    },
    "kernelspec": {
      "name": "python3",
      "display_name": "Python 3.8.10 64-bit ('base': conda)"
    },
    "language_info": {
      "name": "python",
      "version": "3.8.10",
      "mimetype": "text/x-python",
      "codemirror_mode": {
        "name": "ipython",
        "version": 3
      },
      "pygments_lexer": "ipython3",
      "nbconvert_exporter": "python",
      "file_extension": ".py"
    },
    "interpreter": {
      "hash": "07efdcd4b820c98a756949507a4d29d7862823915ec7477944641bea022f4f62"
    }
  },
  "cells": [
    {
      "cell_type": "markdown",
      "source": [
        "# Лабораторная работа №1"
      ],
      "metadata": {
        "id": "JYSEahFVOIoQ"
      }
    },
    {
      "cell_type": "markdown",
      "source": [
        "## Задание:\n",
        "\n",
        "С помощью метода get_prepared_all_vacancies_from_hh\n",
        "загрузить 10000 вакансии с сайта hh.ru.\n",
        "\n",
        "Договоритесь чтобы вакансии не повторялись.\n",
        "\n",
        "Сохранить результат в виде csv файла с тремя столбцами:\n",
        "1. id вакансии\n",
        "2. сырой json\n",
        "3. подготовленное описание вакансии\n",
        "\n",
        "Не забывайте про обработку ошибок"
      ],
      "metadata": {
        "id": "1T45drVGAoZS"
      }
    },
    {
      "cell_type": "markdown",
      "source": [
        "## Подключение библиотек"
      ],
      "metadata": {
        "id": "X8RfsfoNOIGa"
      }
    },
    {
      "cell_type": "code",
      "execution_count": 1,
      "source": [
        "import nltk                         # Для токенезации и лемматизации\r\n",
        "\r\n",
        "from urllib.request import urlopen  # Пакет для чтения URL\r\n",
        "from urllib.error import HTTPError  # Обработка ошибки HTTPError\r\n",
        "\r\n",
        "import json                         # Работа с форматом .json\r\n",
        "\r\n",
        "import re                           # Регулярные выражения\r\n",
        "\r\n",
        "import pymystem3                    # Лемматизация для русского текста\r\n",
        "import pymorphy2                    # Лемматизация для русского текста\r\n",
        "\r\n",
        "from string import punctuation      # знаки препинаний\r\n",
        "\r\n",
        "import concurrent.futures           # ThreadPoolExecutor\r\n",
        "\r\n",
        "import pandas as pd                 # Для работы экспорта в формат .csv\r\n",
        "\r\n",
        "import numpy as np                  # Для создания ndarray\r\n",
        "\r\n",
        "nltk.download('punkt')              # Модель токенайзера из NLTK\r\n",
        "\r\n",
        "nltk.download('stopwords')          # Набор стоп-слов"
      ],
      "outputs": [
        {
          "output_type": "stream",
          "name": "stderr",
          "text": [
            "[nltk_data] Downloading package punkt to C:\\Users\\Sergey\n",
            "[nltk_data]     Mikheev\\AppData\\Roaming\\nltk_data...\n",
            "[nltk_data]   Package punkt is already up-to-date!\n",
            "[nltk_data] Downloading package stopwords to C:\\Users\\Sergey\n",
            "[nltk_data]     Mikheev\\AppData\\Roaming\\nltk_data...\n",
            "[nltk_data]   Package stopwords is already up-to-date!\n"
          ]
        },
        {
          "output_type": "execute_result",
          "data": {
            "text/plain": [
              "True"
            ]
          },
          "metadata": {},
          "execution_count": 1
        }
      ],
      "metadata": {
        "colab": {
          "base_uri": "https://localhost:8080/"
        },
        "id": "x9qeY0MCOTJP",
        "outputId": "c8c76543-a9f6-4c3c-ba9e-4a1dc2110466"
      }
    },
    {
      "cell_type": "markdown",
      "source": [
        "## Чтение json с hh.ru"
      ],
      "metadata": {
        "id": "dXv2ek3wOUch"
      }
    },
    {
      "cell_type": "code",
      "execution_count": 2,
      "source": [
        "def download_json(url):\r\n",
        "  try:\r\n",
        "    response = urlopen(url, timeout=60)\r\n",
        "    data_json = json.loads(response.read())\r\n",
        "    return data_json\r\n",
        "  except HTTPError as e:\r\n",
        "    if e.code == 404:\r\n",
        "      return {'description': '404 Page Not Found'}\r\n",
        "    else:\r\n",
        "      raise e\r\n",
        "  \r\n",
        "#пример: download_json('https://api.hh.ru/vacancies/43551857')"
      ],
      "outputs": [],
      "metadata": {
        "id": "oSGoAoSOsaOr"
      }
    },
    {
      "cell_type": "markdown",
      "source": [
        "Проверка работы метода"
      ],
      "metadata": {
        "id": "BgenTo-XOa6X"
      }
    },
    {
      "cell_type": "code",
      "execution_count": 3,
      "source": [
        "this = download_json('https://api.hh.ru/vacancies/10000007')\r\n",
        "print(json.dumps(this, sort_keys=True, indent=2, ensure_ascii=False))"
      ],
      "outputs": [
        {
          "output_type": "stream",
          "name": "stdout",
          "text": [
            "{\n",
            "  \"accept_handicapped\": false,\n",
            "  \"accept_incomplete_resumes\": true,\n",
            "  \"accept_kids\": false,\n",
            "  \"accept_temporary\": false,\n",
            "  \"address\": null,\n",
            "  \"allow_messages\": true,\n",
            "  \"alternate_url\": \"https://hh.ru/vacancy/10000007\",\n",
            "  \"apply_alternate_url\": \"https://hh.ru/applicant/vacancy_response?vacancyId=10000007\",\n",
            "  \"archived\": true,\n",
            "  \"area\": {\n",
            "    \"id\": \"160\",\n",
            "    \"name\": \"Алматы\",\n",
            "    \"url\": \"https://api.hh.ru/areas/160\"\n",
            "  },\n",
            "  \"billing_type\": {\n",
            "    \"id\": \"free\",\n",
            "    \"name\": \"Бесплатная\"\n",
            "  },\n",
            "  \"branded_description\": null,\n",
            "  \"code\": null,\n",
            "  \"contacts\": null,\n",
            "  \"created_at\": \"2014-03-17T15:09:31+0400\",\n",
            "  \"department\": null,\n",
            "  \"description\": \"<p><strong>Требование:</strong></p> <ul> <li>грамотная речь</li> <li>пользователь ПК</li> </ul> <p><strong>Обязанности:</strong></p> <ul> <li>обработка звонков</li> <li>консультация клиентов по телефону</li> <li>назначение встреч</li> </ul> <p><strong>Условия:</strong></p> <ul> <li>оклад + бонусы</li> <li>график работы с 10.00 до 19.00</li> <li>6\\\\1 </li> <li>перспектива карьерного роста</li> <li>оформление по ТК</li> <li>дружный коллектив</li> </ul>\",\n",
            "  \"driver_license_types\": [],\n",
            "  \"employer\": {\n",
            "    \"alternate_url\": \"https://hh.ru/employer/1467416\",\n",
            "    \"id\": \"1467416\",\n",
            "    \"logo_urls\": {\n",
            "      \"240\": \"https://hhcdn.ru/employer-logo/3571500.jpeg\",\n",
            "      \"90\": \"https://hhcdn.ru/employer-logo/3571499.jpeg\",\n",
            "      \"original\": \"https://hhcdn.ru/employer-logo-original/782652.jpg\"\n",
            "    },\n",
            "    \"name\": \"Clean Planet\",\n",
            "    \"trusted\": true,\n",
            "    \"url\": \"https://api.hh.ru/employers/1467416\",\n",
            "    \"vacancies_url\": \"https://api.hh.ru/vacancies?employer_id=1467416\"\n",
            "  },\n",
            "  \"employment\": {\n",
            "    \"id\": \"full\",\n",
            "    \"name\": \"Полная занятость\"\n",
            "  },\n",
            "  \"experience\": {\n",
            "    \"id\": \"noExperience\",\n",
            "    \"name\": \"Нет опыта\"\n",
            "  },\n",
            "  \"has_test\": false,\n",
            "  \"hidden\": false,\n",
            "  \"id\": \"10000007\",\n",
            "  \"insider_interview\": null,\n",
            "  \"key_skills\": [],\n",
            "  \"name\": \"Специалист call-centre\",\n",
            "  \"negotiations_url\": null,\n",
            "  \"premium\": false,\n",
            "  \"published_at\": \"2014-03-17T15:09:31+0400\",\n",
            "  \"quick_responses_allowed\": false,\n",
            "  \"relations\": [],\n",
            "  \"response_letter_required\": false,\n",
            "  \"response_url\": null,\n",
            "  \"salary\": {\n",
            "    \"currency\": \"KZT\",\n",
            "    \"from\": 70000,\n",
            "    \"gross\": null,\n",
            "    \"to\": 150000\n",
            "  },\n",
            "  \"schedule\": {\n",
            "    \"id\": \"fullDay\",\n",
            "    \"name\": \"Полный день\"\n",
            "  },\n",
            "  \"site\": {\n",
            "    \"id\": \"hh\",\n",
            "    \"name\": \"hh.ru\"\n",
            "  },\n",
            "  \"specializations\": [\n",
            "    {\n",
            "      \"id\": \"4.278\",\n",
            "      \"name\": \"Сотрудник call-центра\",\n",
            "      \"profarea_id\": \"4\",\n",
            "      \"profarea_name\": \"Административный персонал\"\n",
            "    }\n",
            "  ],\n",
            "  \"suitable_resumes_url\": null,\n",
            "  \"test\": null,\n",
            "  \"type\": {\n",
            "    \"id\": \"open\",\n",
            "    \"name\": \"Открытая\"\n",
            "  },\n",
            "  \"vacancy_constructor_template\": null,\n",
            "  \"working_days\": [],\n",
            "  \"working_time_intervals\": [],\n",
            "  \"working_time_modes\": []\n",
            "}\n"
          ]
        }
      ],
      "metadata": {
        "colab": {
          "base_uri": "https://localhost:8080/"
        },
        "id": "hLoclnkFPnHo",
        "outputId": "5fdc1fec-09cd-41f3-b9cd-65ee4f5f353d"
      }
    },
    {
      "cell_type": "markdown",
      "source": [
        "## Очистка предложения от HTML-тегов и других лишних символов"
      ],
      "metadata": {
        "id": "4pjxJhikPWsl"
      }
    },
    {
      "cell_type": "code",
      "execution_count": 4,
      "source": [
        "'''\r\n",
        "РЕАЛИЗОВАТЬ remove_garbage\r\n",
        "Используйте regex\r\n",
        "IN: str '<p>ТРЕБОВАНИЯ: <br />- обязательно высшее или незаконченное высшее экономическое образование;...'\r\n",
        "OUT: str 'ТРЕБОВАНИЯ: - обязательно высшее или незаконченное высшее экономическое образование;...'\r\n",
        "'''\r\n",
        "\r\n",
        "def remove_garbage(raw_text):\r\n",
        "  # tags = r'<\\S*\\s*\\S*>'\r\n",
        "  tags = r'<.*?>'\r\n",
        "  quot = r'&quot|«|»'\r\n",
        "  puncts = r'•|∙|●'\r\n",
        "  dash = r'–|—|―|–|--|_'\r\n",
        "  zero_witdth = r'\\u200b|\\u200d'\r\n",
        "  emoji = r'✔|☎️|❗️|⏰|❕|☎|▀|▄|★|⚡|▶|✔️|✂️|❶|❷|❸|❹|③|②|✅'\r\n",
        "  banwords = [tags, quot, puncts, dash, zero_witdth, emoji]\r\n",
        "  text = raw_text\r\n",
        "  for ex in banwords:\r\n",
        "    text = ' '.join(elem.strip() for elem in  re.split(ex, text))\r\n",
        "  return text"
      ],
      "outputs": [],
      "metadata": {
        "id": "TR80d6BquBcm"
      }
    },
    {
      "cell_type": "markdown",
      "source": [
        "Проверка работы метода"
      ],
      "metadata": {
        "id": "kud10hrxOa6b"
      }
    },
    {
      "cell_type": "code",
      "execution_count": 5,
      "source": [
        "example = remove_garbage(\"<p>ТРЕБОВАНИЯ: <br />- обязательно высшее или незаконченное высшее экономическое образование;...\")\r\n",
        "print(example)\r\n",
        "print(\"ТРЕБОВАНИЯ: - обязательно высшее или незаконченное высшее экономическое образование;...\")"
      ],
      "outputs": [
        {
          "output_type": "stream",
          "name": "stdout",
          "text": [
            "ТРЕБОВАНИЯ: - обязательно высшее или незаконченное высшее экономическое образование;...\n",
            "ТРЕБОВАНИЯ: - обязательно высшее или незаконченное высшее экономическое образование;...\n"
          ]
        }
      ],
      "metadata": {
        "colab": {
          "base_uri": "https://localhost:8080/"
        },
        "id": "SQWguRMx4g1L",
        "outputId": "2e535142-375b-4f45-c1af-6118609b7d1d"
      }
    },
    {
      "cell_type": "markdown",
      "source": [
        "## Токенизация"
      ],
      "metadata": {
        "id": "CB5dx9icPieR"
      }
    },
    {
      "cell_type": "code",
      "execution_count": 6,
      "source": [
        "'''\r\n",
        "РЕАЛИЗОВАТЬ tokenize\r\n",
        "Используйте word_tokenize из nltk.tokenize\r\n",
        "IN: str 'ТРЕБОВАНИЯ: - обязательно высшее или незаконченное высшее экономическое образование;...'\r\n",
        "OUT: list ['требования', ':', '-', 'обязательно', 'высшее', 'или', 'незаконченное', 'высшее', 'экономическое', 'образование']\r\n",
        "'''\r\n",
        "\r\n",
        "def tokenize(raw_text):\r\n",
        "  tokens = nltk.word_tokenize(raw_text.lower(), language='russian')\r\n",
        "  return tokens"
      ],
      "outputs": [],
      "metadata": {
        "id": "0trYWVvtIkOW"
      }
    },
    {
      "cell_type": "markdown",
      "source": [
        "Проверка работы метода"
      ],
      "metadata": {
        "id": "mrJo5eFQOa6c"
      }
    },
    {
      "cell_type": "code",
      "execution_count": 7,
      "source": [
        "print(tokenize(\"ТРЕБОВАНИЯ: - обязательно высшее или незаконченное высшее экономическое образование;...\"))\r\n",
        "print(['требования', ':', '-', 'обязательно', 'высшее', 'или', 'незаконченное', 'высшее', 'экономическое', 'образование'])"
      ],
      "outputs": [
        {
          "output_type": "stream",
          "name": "stdout",
          "text": [
            "['требования', ':', '-', 'обязательно', 'высшее', 'или', 'незаконченное', 'высшее', 'экономическое', 'образование', ';', '...']\n",
            "['требования', ':', '-', 'обязательно', 'высшее', 'или', 'незаконченное', 'высшее', 'экономическое', 'образование']\n"
          ]
        }
      ],
      "metadata": {
        "colab": {
          "base_uri": "https://localhost:8080/"
        },
        "id": "cWa3fPXN43ca",
        "outputId": "a8fc49d8-100d-4808-b7dc-857084e0750a"
      }
    },
    {
      "cell_type": "markdown",
      "source": [
        "## Приведение токенов к базовой форме"
      ],
      "metadata": {
        "id": "wGHRN5niP1k1"
      }
    },
    {
      "cell_type": "code",
      "execution_count": 8,
      "source": [
        "'''\r\n",
        "РЕАЛИЗОВАТЬ to_base_form\r\n",
        "Можно использовать и лемматизацию и стемминг: pymystem3, ntlk, Spacy, gensim\r\n",
        "IN: str 'Красивая мама красиво мыла раму'\r\n",
        "OUT: str 'красивый мама красиво мыть рама'\r\n",
        "'''\r\n",
        "\r\n",
        "## pymorphy2\r\n",
        "# morph = pymorphy2.MorphAnalyzer(lang='ru')\r\n",
        "# \r\n",
        "# def to_base_form(raw_text):\r\n",
        "#   text = ''\r\n",
        "#   for word in raw_text.split(' '):\r\n",
        "#     text += ' ' + morph.parse(word)[0].normal_form\r\n",
        "#   return text.strip()\r\n",
        "\r\n",
        "## pymystem\r\n",
        "def to_base_form(raw_text):\r\n",
        "  lemmatizer = pymystem3.Mystem()\r\n",
        "  tokens = lemmatizer.lemmatize(raw_text)\r\n",
        "  return ''.join(elem for elem in tokens).strip()"
      ],
      "outputs": [],
      "metadata": {
        "id": "Jp-S1920L6QT"
      }
    },
    {
      "cell_type": "markdown",
      "source": [
        "Проверка работы метода"
      ],
      "metadata": {
        "id": "eNxOg9XHOa6e"
      }
    },
    {
      "cell_type": "code",
      "execution_count": 9,
      "source": [
        "print(to_base_form('красивая мама красиво мыла раму'))\r\n",
        "print('красивый мама красиво мыть рама')"
      ],
      "outputs": [
        {
          "output_type": "stream",
          "name": "stdout",
          "text": [
            "красивый мама красиво мыть рама\n",
            "красивый мама красиво мыть рама\n"
          ]
        }
      ],
      "metadata": {
        "colab": {
          "base_uri": "https://localhost:8080/"
        },
        "id": "2havYH06ToyC",
        "outputId": "06539a81-c543-4b67-e61f-72a87d84f338"
      }
    },
    {
      "cell_type": "markdown",
      "source": [
        "## Удаление стоп-слов"
      ],
      "metadata": {
        "id": "nn80GkRrTpuK"
      }
    },
    {
      "cell_type": "code",
      "execution_count": 10,
      "source": [
        "'''\r\n",
        "РЕАЛИЗОВАТЬ remove_stop_words\r\n",
        "Используйте stopwords из nltk.corpus \r\n",
        "IN: list ['требования', ':', '-', 'обязательно', 'высший', 'или', 'незаконченный', 'высший', 'экономический', 'образование']\r\n",
        "OUT: list ['требование', 'обязательно', 'высший', 'незаконченный', 'высший', 'экономический', 'образование']\r\n",
        "'''\r\n",
        "\r\n",
        "def remove_stop_words(raw_text):\r\n",
        "  punc = [elem for elem in punctuation]\r\n",
        "  banwords = nltk.corpus.stopwords.words(fileids='russian') + punc\r\n",
        "  return ' '.join(elem.strip() for elem in raw_text if elem not in banwords).split()"
      ],
      "outputs": [],
      "metadata": {
        "id": "2FCOqsQPuxQE"
      }
    },
    {
      "cell_type": "markdown",
      "source": [
        "Проверка работы метода"
      ],
      "metadata": {
        "id": "9qu2qLyAOa6g"
      }
    },
    {
      "cell_type": "code",
      "execution_count": 11,
      "source": [
        "print(remove_stop_words(['требования', ':', '-', 'обязательно', 'высший', 'или', 'незаконченный', 'высший', 'экономический', 'образование']))\r\n",
        "print(['требование', 'обязательно', 'высший', 'незаконченный', 'высший', 'экономический', 'образование'])"
      ],
      "outputs": [
        {
          "output_type": "stream",
          "name": "stdout",
          "text": [
            "['требования', 'обязательно', 'высший', 'незаконченный', 'высший', 'экономический', 'образование']\n",
            "['требование', 'обязательно', 'высший', 'незаконченный', 'высший', 'экономический', 'образование']\n"
          ]
        }
      ],
      "metadata": {
        "colab": {
          "base_uri": "https://localhost:8080/"
        },
        "id": "9d1_ialXOa6i",
        "outputId": "2846a3a5-f7bc-47c5-9a91-0b4274254d6a"
      }
    },
    {
      "cell_type": "markdown",
      "source": [
        "## Получение подготовленного описания вакансии "
      ],
      "metadata": {
        "id": "T_lwc3jpVBHB"
      }
    },
    {
      "cell_type": "code",
      "execution_count": 12,
      "source": [
        "'''\r\n",
        "РЕАЛИЗОВАТЬ get_prepared_vacancy_description_from_hh\r\n",
        "Используйте реализованные ранее методы\r\n",
        "IN: int 72323\r\n",
        "OUT1: str vacancy_json dump\r\n",
        "OUT2: list[list] [['требование', 'обязательно', 'высший', 'незаконченный', 'высший', 'экономический', 'образование', ...], [...], ...]\r\n",
        "'''\r\n",
        "def get_prepared_vacancy_from_hh(vacancy_id):\r\n",
        "  base_url = 'https://api.hh.ru/vacancies/'\r\n",
        "  vacancy_json = download_json(base_url + str(vacancy_id))\r\n",
        "  vacancy_description = vacancy_json['description']\r\n",
        "  vacancy_description_sentences = nltk.tokenize.sent_tokenize(vacancy_description)\r\n",
        "  prepared_vacancy_description = []\r\n",
        "  for sentence in vacancy_description_sentences:\r\n",
        "    ungarbaged = remove_garbage(sentence)\r\n",
        "    based = to_base_form(ungarbaged)\r\n",
        "    tokenized = tokenize(based)\r\n",
        "    prepared = remove_stop_words(tokenized)\r\n",
        "    prepared_vacancy_description += [prepared]\r\n",
        "  return vacancy_json, prepared_vacancy_description"
      ],
      "outputs": [],
      "metadata": {
        "id": "HV4CVKnDvFil"
      }
    },
    {
      "cell_type": "markdown",
      "source": [
        "Проверка работы метода"
      ],
      "metadata": {
        "id": "n1ebHdlfOa6o"
      }
    },
    {
      "cell_type": "code",
      "execution_count": 13,
      "source": [
        "prepared_json, prepared_desc = get_prepared_vacancy_from_hh(43551857)"
      ],
      "outputs": [],
      "metadata": {
        "id": "BM-PazsMOa6p"
      }
    },
    {
      "cell_type": "code",
      "execution_count": 14,
      "source": [
        "print(prepared_json)\r\n",
        "print('\\n-----------------------\\n')\r\n",
        "print(prepared_desc)"
      ],
      "outputs": [
        {
          "output_type": "stream",
          "name": "stdout",
          "text": [
            "{'id': '43551857', 'premium': False, 'billing_type': {'id': 'standard', 'name': 'Стандарт'}, 'relations': [], 'name': 'Рабочий в производственные цеха', 'insider_interview': None, 'response_letter_required': False, 'area': {'id': '68', 'name': 'Омск', 'url': 'https://api.hh.ru/areas/68'}, 'salary': {'from': 24000, 'to': 41000, 'currency': 'RUR', 'gross': False}, 'type': {'id': 'open', 'name': 'Открытая'}, 'address': {'city': 'Омск', 'street': 'улица Будеркина', 'building': '2', 'description': None, 'lat': 54.9591513865, 'lng': 73.437212985, 'raw': 'Омск, улица Будеркина, 2', 'metro': None, 'metro_stations': []}, 'allow_messages': True, 'site': {'id': 'hh', 'name': 'hh.ru'}, 'experience': {'id': 'noExperience', 'name': 'Нет опыта'}, 'schedule': {'id': 'shift', 'name': 'Сменный график'}, 'employment': {'id': 'full', 'name': 'Полная занятость'}, 'department': None, 'contacts': None, 'description': '<p><strong>Обязанности:</strong></p> <ul> <li>Работа в производственных цехах.</li> </ul> <p><strong>Требования:</strong></p> <ul> <li>Рассматриваются все кандидаты, желающие работать.</li> </ul> <p><strong>Условия:</strong></p> <ul> <li>Официальное трудоустройство;</li> <li>Своевременная, стабильная выплата заработной платы (ежегодное повышение заработной платы);</li> <li>Сменные графики работы со смещенным выходным днем;</li> <li>Обучение рабочей профессии на рабочем месте;</li> <li>Дополнительные выплаты в значимых событиях (рождение детей, заключение брака и пр.);</li> <li>Возможность карьерного роста и развития;</li> <li>Обучение за счёт Компании;</li> <li>50 % скидка при покупке шин &quot;Кордиант&quot;;</li> <li>Льготные путевки в оздоровительные учреждения;</li> <li>Оплачиваемый бассейн для сотрудников;</li> <li>Компенсации содержания детей в детских садах;</li> <li>Детские подарки к Новому году.</li> </ul> <p><strong>Всех желающих ждем:</strong></p> <ul> <li>Собеседования проводятся ежедневно (кроме субботы и воскресенья);</li> <li>Время: 13:00</li> <li>Адрес: ул. П.Будеркина 2, остановка: Шинный завод, отдел подбора и обучения персонала</li> <li>При себе: паспорт и трудовая книжка</li> </ul>', 'branded_description': None, 'vacancy_constructor_template': {'id': 23688, 'name': 'Производственные вакансии ОШЗ', 'top_picture': {'height': 699, 'width': 1920, 'path': 'https://hhcdn.ru/branding-pictures/671941.png', 'blurred_path': 'https://hhcdn.ru/branding-pictures-blurred/671943.png'}, 'bottom_picture': {'height': 352, 'width': 770, 'path': 'https://hhcdn.ru/branding-pictures/671948.png', 'blurred_path': 'https://hhcdn.ru/branding-pictures-blurred/671950.png'}}, 'key_skills': [], 'accept_handicapped': False, 'accept_kids': False, 'archived': False, 'response_url': None, 'specializations': [{'id': '18.348', 'name': 'Химическая промышленность', 'profarea_id': '18', 'profarea_name': 'Производство, сельское хозяйство'}, {'id': '29.588', 'name': 'Другое', 'profarea_id': '29', 'profarea_name': 'Рабочий персонал'}, {'id': '29.558', 'name': 'Шлифовщик', 'profarea_id': '29', 'profarea_name': 'Рабочий персонал'}, {'id': '29.511', 'name': 'Токарь, Фрезеровщик', 'profarea_id': '29', 'profarea_name': 'Рабочий персонал'}, {'id': '29.515', 'name': 'Электрик', 'profarea_id': '29', 'profarea_name': 'Рабочий персонал'}, {'id': '15.237', 'name': 'Производство, Технологии', 'profarea_id': '15', 'profarea_name': 'Начало карьеры, студенты'}], 'code': None, 'hidden': False, 'quick_responses_allowed': False, 'driver_license_types': [], 'accept_incomplete_resumes': True, 'employer': {'id': '3710', 'name': 'Кордиант', 'url': 'https://api.hh.ru/employers/3710', 'alternate_url': 'https://hh.ru/employer/3710', 'logo_urls': {'240': 'https://hhcdn.ru/employer-logo/3807296.png', '90': 'https://hhcdn.ru/employer-logo/3807295.png', 'original': 'https://hhcdn.ru/employer-logo-original/841605.png'}, 'vacancies_url': 'https://api.hh.ru/vacancies?employer_id=3710', 'trusted': True}, 'published_at': '2021-09-02T09:29:40+0300', 'created_at': '2021-09-02T09:29:40+0300', 'negotiations_url': None, 'suitable_resumes_url': None, 'apply_alternate_url': 'https://hh.ru/applicant/vacancy_response?vacancyId=43551857', 'has_test': False, 'test': None, 'alternate_url': 'https://hh.ru/vacancy/43551857', 'working_days': [], 'working_time_intervals': [], 'working_time_modes': [], 'accept_temporary': False}\n",
            "\n",
            "-----------------------\n",
            "\n",
            "[['обязанность', 'работа', 'производственный', 'цех', 'требование', 'рассматриваться', 'весь', 'кандидат', 'желать', 'работать', 'условие', 'официальный', 'трудоустройство', 'своевременный', 'стабильный', 'выплата', 'заработный', 'плата', 'ежегодный', 'повышение', 'заработный', 'плата', 'сменный', 'график', 'работа', 'смещать', 'выходной', 'день', 'обучение', 'рабочий', 'профессия', 'рабочий', 'место', 'дополнительный', 'выплата', 'значимый', 'событие', 'рождение', 'ребенок', 'заключение', 'брак', 'пр'], ['возможность', 'карьерный', 'рост', 'развитие', 'обучение', 'счет', 'компания', '50', 'скидка', 'покупка', 'шина', 'кордиант', 'льготный', 'путевка', 'оздоровительный', 'учреждение', 'оплачивать', 'бассейн', 'сотрудник', 'компенсация', 'содержание', 'ребенок', 'детский', 'сад', 'детский', 'подарок', 'новый', 'год.', 'весь', 'желающий', 'ждать', 'собеседование', 'проводиться', 'ежедневно', 'кроме', 'суббота', 'воскресение', 'время', '13:00', 'адрес', 'ул'], ['п.будеркина', '2', 'остановка', 'шинный', 'завод', 'отдел', 'подбор', 'обучение', 'персонал', 'паспорт', 'трудовой', 'книжка']]\n"
          ]
        }
      ],
      "metadata": {
        "colab": {
          "base_uri": "https://localhost:8080/"
        },
        "id": "Q31BtGBEOa6p",
        "outputId": "61010984-b50d-4a77-f582-c6e98bb310e9"
      }
    },
    {
      "cell_type": "markdown",
      "source": [
        "## Получение всех подготовленных вакансий"
      ],
      "metadata": {
        "id": "opQB4sfqVybi"
      }
    },
    {
      "cell_type": "code",
      "execution_count": 15,
      "source": [
        "'''\r\n",
        "РЕАЛИЗОВАТЬ get_prepared_all_vacancies_from_hh\r\n",
        "Используйте get_prepared_vacancy_from_hh и ThreadPoolExecutor из concurrent.futures\r\n",
        "IN: list [int]\r\n",
        "OUT: list [vacancy_id, raw_description, prepared_description]\r\n",
        "'''\r\n",
        "##\r\n",
        "# возвращаемое значение изменено с list[int, str, list[list[str]]] на list[list[int, str, list[list[str]]]]\r\n",
        "##\r\n",
        "def get_prepared_all_vacancies_from_hh(vacancy_ids):\r\n",
        "  res = []\r\n",
        "  with concurrent.futures.ThreadPoolExecutor() as executor:\r\n",
        "    futures = {executor.submit(get_prepared_vacancy_from_hh, vacancy_id): vacancy_id for vacancy_id in vacancy_ids}\r\n",
        "    for future in concurrent.futures.as_completed(futures):\r\n",
        "      json, desc = future.result()\r\n",
        "      res.append([futures[future], json, desc])\r\n",
        "  return res"
      ],
      "outputs": [],
      "metadata": {
        "id": "4CBLmNNKDFWZ"
      }
    },
    {
      "cell_type": "markdown",
      "source": [
        "Проверка работы метода"
      ],
      "metadata": {}
    },
    {
      "cell_type": "code",
      "execution_count": null,
      "source": [
        "id_list = np.random.randint(10000000, 45000000, 3500)\r\n",
        "result = get_prepared_all_vacancies_from_hh(id_list)\r\n",
        "# pymorphy2: 816.2s\r\n",
        "# pymystem3: 3197.5s"
      ],
      "outputs": [],
      "metadata": {
        "id": "LQmkVJeHOa6q"
      }
    },
    {
      "cell_type": "code",
      "execution_count": 19,
      "source": [
        "csv = pd.DataFrame(result, columns=['id', 'raw_json', 'description'])\r\n",
        "display(csv)"
      ],
      "outputs": [
        {
          "output_type": "display_data",
          "data": {
            "text/html": [
              "<div>\n",
              "<style scoped>\n",
              "    .dataframe tbody tr th:only-of-type {\n",
              "        vertical-align: middle;\n",
              "    }\n",
              "\n",
              "    .dataframe tbody tr th {\n",
              "        vertical-align: top;\n",
              "    }\n",
              "\n",
              "    .dataframe thead th {\n",
              "        text-align: right;\n",
              "    }\n",
              "</style>\n",
              "<table border=\"1\" class=\"dataframe\">\n",
              "  <thead>\n",
              "    <tr style=\"text-align: right;\">\n",
              "      <th></th>\n",
              "      <th>id</th>\n",
              "      <th>raw_json</th>\n",
              "      <th>description</th>\n",
              "    </tr>\n",
              "  </thead>\n",
              "  <tbody>\n",
              "    <tr>\n",
              "      <th>0</th>\n",
              "      <td>24231110</td>\n",
              "      <td>{'id': '24231110', 'premium': False, 'billing_...</td>\n",
              "      <td>[[обязанность, выполнение, лабораторный, анали...</td>\n",
              "    </tr>\n",
              "    <tr>\n",
              "      <th>1</th>\n",
              "      <td>12765148</td>\n",
              "      <td>{'id': '12765148', 'premium': False, 'billing_...</td>\n",
              "      <td>[[требование, энергичность, сообразительность,...</td>\n",
              "    </tr>\n",
              "    <tr>\n",
              "      <th>2</th>\n",
              "      <td>14242127</td>\n",
              "      <td>{'id': '14242127', 'premium': False, 'billing_...</td>\n",
              "      <td>[[обязанность, прокладка, кабель, вдрс, устано...</td>\n",
              "    </tr>\n",
              "    <tr>\n",
              "      <th>3</th>\n",
              "      <td>27756135</td>\n",
              "      <td>{'id': '27756135', 'premium': False, 'billing_...</td>\n",
              "      <td>[[обязанность, устройство, стеновый, опалубка,...</td>\n",
              "    </tr>\n",
              "    <tr>\n",
              "      <th>4</th>\n",
              "      <td>11108833</td>\n",
              "      <td>{'id': '11108833', 'premium': False, 'billing_...</td>\n",
              "      <td>[[компания, тов, нвп, дніпро-мто, обязанность,...</td>\n",
              "    </tr>\n",
              "    <tr>\n",
              "      <th>...</th>\n",
              "      <td>...</td>\n",
              "      <td>...</td>\n",
              "      <td>...</td>\n",
              "    </tr>\n",
              "    <tr>\n",
              "      <th>3495</th>\n",
              "      <td>24787031</td>\n",
              "      <td>{'id': '24787031', 'premium': False, 'billing_...</td>\n",
              "      <td>[[ооо, пэк, многопрофильный, компания, осущест...</td>\n",
              "    </tr>\n",
              "    <tr>\n",
              "      <th>3496</th>\n",
              "      <td>37818707</td>\n",
              "      <td>{'id': '37818707', 'premium': False, 'billing_...</td>\n",
              "      <td>[[бояться, вызов, легко, находить, общий, язык...</td>\n",
              "    </tr>\n",
              "    <tr>\n",
              "      <th>3497</th>\n",
              "      <td>32115756</td>\n",
              "      <td>{'id': '32115756', 'premium': False, 'billing_...</td>\n",
              "      <td>[[компания, дикарт, завод, гипсовый, лепнина, ...</td>\n",
              "    </tr>\n",
              "    <tr>\n",
              "      <th>3498</th>\n",
              "      <td>25642855</td>\n",
              "      <td>{'id': '25642855', 'premium': False, 'billing_...</td>\n",
              "      <td>[[ооо, тк, гарда, самый, динамично, развивающи...</td>\n",
              "    </tr>\n",
              "    <tr>\n",
              "      <th>3499</th>\n",
              "      <td>27170096</td>\n",
              "      <td>{'id': '27170096', 'premium': False, 'billing_...</td>\n",
              "      <td>[[работодатель, вероятно, находить, нужный, ка...</td>\n",
              "    </tr>\n",
              "  </tbody>\n",
              "</table>\n",
              "<p>3500 rows × 3 columns</p>\n",
              "</div>"
            ],
            "text/plain": [
              "            id                                           raw_json  \\\n",
              "0     24231110  {'id': '24231110', 'premium': False, 'billing_...   \n",
              "1     12765148  {'id': '12765148', 'premium': False, 'billing_...   \n",
              "2     14242127  {'id': '14242127', 'premium': False, 'billing_...   \n",
              "3     27756135  {'id': '27756135', 'premium': False, 'billing_...   \n",
              "4     11108833  {'id': '11108833', 'premium': False, 'billing_...   \n",
              "...        ...                                                ...   \n",
              "3495  24787031  {'id': '24787031', 'premium': False, 'billing_...   \n",
              "3496  37818707  {'id': '37818707', 'premium': False, 'billing_...   \n",
              "3497  32115756  {'id': '32115756', 'premium': False, 'billing_...   \n",
              "3498  25642855  {'id': '25642855', 'premium': False, 'billing_...   \n",
              "3499  27170096  {'id': '27170096', 'premium': False, 'billing_...   \n",
              "\n",
              "                                            description  \n",
              "0     [[обязанность, выполнение, лабораторный, анали...  \n",
              "1     [[требование, энергичность, сообразительность,...  \n",
              "2     [[обязанность, прокладка, кабель, вдрс, устано...  \n",
              "3     [[обязанность, устройство, стеновый, опалубка,...  \n",
              "4     [[компания, тов, нвп, дніпро-мто, обязанность,...  \n",
              "...                                                 ...  \n",
              "3495  [[ооо, пэк, многопрофильный, компания, осущест...  \n",
              "3496  [[бояться, вызов, легко, находить, общий, язык...  \n",
              "3497  [[компания, дикарт, завод, гипсовый, лепнина, ...  \n",
              "3498  [[ооо, тк, гарда, самый, динамично, развивающи...  \n",
              "3499  [[работодатель, вероятно, находить, нужный, ка...  \n",
              "\n",
              "[3500 rows x 3 columns]"
            ]
          },
          "metadata": {}
        }
      ],
      "metadata": {
        "id": "GHPJ0AiyOa6q"
      }
    },
    {
      "cell_type": "markdown",
      "source": [
        "Сохранение результата в .csv файл"
      ],
      "metadata": {}
    },
    {
      "cell_type": "code",
      "execution_count": 21,
      "source": [
        "csv.to_csv('csv/result.csv')"
      ],
      "outputs": [],
      "metadata": {}
    },
    {
      "cell_type": "markdown",
      "source": [
        "Проверка числа несуществующих вакансий"
      ],
      "metadata": {}
    },
    {
      "cell_type": "code",
      "execution_count": 20,
      "source": [
        "display(csv[csv.raw_json==\"{'description': '404 Page Not Found'}\"])"
      ],
      "outputs": [
        {
          "output_type": "display_data",
          "data": {
            "text/html": [
              "<div>\n",
              "<style scoped>\n",
              "    .dataframe tbody tr th:only-of-type {\n",
              "        vertical-align: middle;\n",
              "    }\n",
              "\n",
              "    .dataframe tbody tr th {\n",
              "        vertical-align: top;\n",
              "    }\n",
              "\n",
              "    .dataframe thead th {\n",
              "        text-align: right;\n",
              "    }\n",
              "</style>\n",
              "<table border=\"1\" class=\"dataframe\">\n",
              "  <thead>\n",
              "    <tr style=\"text-align: right;\">\n",
              "      <th></th>\n",
              "      <th>id</th>\n",
              "      <th>raw_json</th>\n",
              "      <th>description</th>\n",
              "    </tr>\n",
              "  </thead>\n",
              "  <tbody>\n",
              "    <tr>\n",
              "      <th>22</th>\n",
              "      <td>17699346</td>\n",
              "      <td>{'description': '404 Page Not Found'}</td>\n",
              "      <td>[['404', 'page', 'not', 'found']]</td>\n",
              "    </tr>\n",
              "    <tr>\n",
              "      <th>44</th>\n",
              "      <td>37903819</td>\n",
              "      <td>{'description': '404 Page Not Found'}</td>\n",
              "      <td>[['404', 'page', 'not', 'found']]</td>\n",
              "    </tr>\n",
              "    <tr>\n",
              "      <th>52</th>\n",
              "      <td>22905251</td>\n",
              "      <td>{'description': '404 Page Not Found'}</td>\n",
              "      <td>[['404', 'page', 'not', 'found']]</td>\n",
              "    </tr>\n",
              "    <tr>\n",
              "      <th>56</th>\n",
              "      <td>21528255</td>\n",
              "      <td>{'description': '404 Page Not Found'}</td>\n",
              "      <td>[['404', 'page', 'not', 'found']]</td>\n",
              "    </tr>\n",
              "    <tr>\n",
              "      <th>78</th>\n",
              "      <td>21377720</td>\n",
              "      <td>{'description': '404 Page Not Found'}</td>\n",
              "      <td>[['404', 'page', 'not', 'found']]</td>\n",
              "    </tr>\n",
              "    <tr>\n",
              "      <th>...</th>\n",
              "      <td>...</td>\n",
              "      <td>...</td>\n",
              "      <td>...</td>\n",
              "    </tr>\n",
              "    <tr>\n",
              "      <th>3477</th>\n",
              "      <td>10852406</td>\n",
              "      <td>{'description': '404 Page Not Found'}</td>\n",
              "      <td>[['404', 'page', 'not', 'found']]</td>\n",
              "    </tr>\n",
              "    <tr>\n",
              "      <th>3479</th>\n",
              "      <td>10064871</td>\n",
              "      <td>{'description': '404 Page Not Found'}</td>\n",
              "      <td>[['404', 'page', 'not', 'found']]</td>\n",
              "    </tr>\n",
              "    <tr>\n",
              "      <th>3487</th>\n",
              "      <td>32508592</td>\n",
              "      <td>{'description': '404 Page Not Found'}</td>\n",
              "      <td>[['404', 'page', 'not', 'found']]</td>\n",
              "    </tr>\n",
              "    <tr>\n",
              "      <th>3488</th>\n",
              "      <td>36759251</td>\n",
              "      <td>{'description': '404 Page Not Found'}</td>\n",
              "      <td>[['404', 'page', 'not', 'found']]</td>\n",
              "    </tr>\n",
              "    <tr>\n",
              "      <th>3491</th>\n",
              "      <td>17297541</td>\n",
              "      <td>{'description': '404 Page Not Found'}</td>\n",
              "      <td>[['404', 'page', 'not', 'found']]</td>\n",
              "    </tr>\n",
              "  </tbody>\n",
              "</table>\n",
              "<p>523 rows × 3 columns</p>\n",
              "</div>"
            ],
            "text/plain": [
              "            id                               raw_json  \\\n",
              "22    17699346  {'description': '404 Page Not Found'}   \n",
              "44    37903819  {'description': '404 Page Not Found'}   \n",
              "52    22905251  {'description': '404 Page Not Found'}   \n",
              "56    21528255  {'description': '404 Page Not Found'}   \n",
              "78    21377720  {'description': '404 Page Not Found'}   \n",
              "...        ...                                    ...   \n",
              "3477  10852406  {'description': '404 Page Not Found'}   \n",
              "3479  10064871  {'description': '404 Page Not Found'}   \n",
              "3487  32508592  {'description': '404 Page Not Found'}   \n",
              "3488  36759251  {'description': '404 Page Not Found'}   \n",
              "3491  17297541  {'description': '404 Page Not Found'}   \n",
              "\n",
              "                            description  \n",
              "22    [['404', 'page', 'not', 'found']]  \n",
              "44    [['404', 'page', 'not', 'found']]  \n",
              "52    [['404', 'page', 'not', 'found']]  \n",
              "56    [['404', 'page', 'not', 'found']]  \n",
              "78    [['404', 'page', 'not', 'found']]  \n",
              "...                                 ...  \n",
              "3477  [['404', 'page', 'not', 'found']]  \n",
              "3479  [['404', 'page', 'not', 'found']]  \n",
              "3487  [['404', 'page', 'not', 'found']]  \n",
              "3488  [['404', 'page', 'not', 'found']]  \n",
              "3491  [['404', 'page', 'not', 'found']]  \n",
              "\n",
              "[523 rows x 3 columns]"
            ]
          },
          "metadata": {}
        }
      ],
      "metadata": {}
    }
  ]
}