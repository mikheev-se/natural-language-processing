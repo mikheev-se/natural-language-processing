{
  "nbformat": 4,
  "nbformat_minor": 2,
  "metadata": {
    "colab": {
      "name": "nlp-1.ipynb",
      "provenance": [],
      "collapsed_sections": [],
      "toc_visible": true
    },
    "kernelspec": {
      "name": "python3",
      "display_name": "Python 3.8.11 64-bit ('base': conda)"
    },
    "language_info": {
      "name": "python",
      "version": "3.8.11",
      "mimetype": "text/x-python",
      "codemirror_mode": {
        "name": "ipython",
        "version": 3
      },
      "pygments_lexer": "ipython3",
      "nbconvert_exporter": "python",
      "file_extension": ".py"
    },
    "interpreter": {
      "hash": "07efdcd4b820c98a756949507a4d29d7862823915ec7477944641bea022f4f62"
    }
  },
  "cells": [
    {
      "cell_type": "markdown",
      "source": [
        "# Лабораторная работа №1"
      ],
      "metadata": {
        "id": "JYSEahFVOIoQ"
      }
    },
    {
      "cell_type": "markdown",
      "source": [
        "## Задание:\n",
        "\n",
        "С помощью метода get_prepared_all_vacancies_from_hh\n",
        "загрузить 10000 вакансии с сайта hh.ru.\n",
        "\n",
        "Договоритесь чтобы вакансии не повторялись.\n",
        "\n",
        "Сохранить результат в виде csv файла с тремя столбцами:\n",
        "1. id вакансии\n",
        "2. сырой json\n",
        "3. подготовленное описание вакансии\n",
        "\n",
        "Не забывайте про обработку ошибок"
      ],
      "metadata": {
        "id": "1T45drVGAoZS"
      }
    },
    {
      "cell_type": "markdown",
      "source": [
        "## Подключение библиотек"
      ],
      "metadata": {
        "id": "X8RfsfoNOIGa"
      }
    },
    {
      "cell_type": "code",
      "execution_count": 2,
      "source": [
        "import nltk                         # Для токенезации и лемматизации\r\n",
        "\r\n",
        "from urllib.request import urlopen  # Пакет для чтения URL\r\n",
        "from urllib.error import HTTPError  # Обработка ошибки HTTPError\r\n",
        "\r\n",
        "import json                         # Работа с форматом .json\r\n",
        "\r\n",
        "import re                           # Регулярные выражения\r\n",
        "\r\n",
        "import pymystem3                    # Лемматизация для русского текста\r\n",
        "import pymorphy2                    # Лемматизация для русского текста\r\n",
        "\r\n",
        "from string import punctuation      # знаки препинаний\r\n",
        "\r\n",
        "import concurrent.futures           # ThreadPoolExecutor\r\n",
        "\r\n",
        "import pandas as pd                 # Для работы экспорта в формат .csv\r\n",
        "\r\n",
        "import numpy as np                  # Для создания ndarray\r\n",
        "\r\n",
        "nltk.download('punkt')              # Модель токенайзера из NLTK\r\n",
        "\r\n",
        "nltk.download('stopwords')          # Набор стоп-слов"
      ],
      "outputs": [
        {
          "output_type": "stream",
          "name": "stderr",
          "text": [
            "[nltk_data] Downloading package punkt to C:\\Users\\Sergey\n",
            "[nltk_data]     Mikheev\\AppData\\Roaming\\nltk_data...\n",
            "[nltk_data]   Package punkt is already up-to-date!\n",
            "[nltk_data] Downloading package stopwords to C:\\Users\\Sergey\n",
            "[nltk_data]     Mikheev\\AppData\\Roaming\\nltk_data...\n",
            "[nltk_data]   Package stopwords is already up-to-date!\n"
          ]
        },
        {
          "output_type": "execute_result",
          "data": {
            "text/plain": [
              "True"
            ]
          },
          "metadata": {},
          "execution_count": 2
        }
      ],
      "metadata": {
        "colab": {
          "base_uri": "https://localhost:8080/"
        },
        "id": "x9qeY0MCOTJP",
        "outputId": "c8c76543-a9f6-4c3c-ba9e-4a1dc2110466"
      }
    },
    {
      "cell_type": "markdown",
      "source": [
        "## Чтение json с hh.ru"
      ],
      "metadata": {
        "id": "dXv2ek3wOUch"
      }
    },
    {
      "cell_type": "code",
      "execution_count": 3,
      "source": [
        "def download_json(url):\r\n",
        "  try:\r\n",
        "    response = urlopen(url, timeout=60)\r\n",
        "    data_json = json.loads(response.read())\r\n",
        "    return data_json\r\n",
        "  except HTTPError as e:\r\n",
        "    if e.code == 404:\r\n",
        "      return {'description': '404 Page Not Found'}\r\n",
        "    else:\r\n",
        "      raise e\r\n",
        "  \r\n",
        "#пример: download_json('https://api.hh.ru/vacancies/43551857')"
      ],
      "outputs": [],
      "metadata": {
        "id": "oSGoAoSOsaOr"
      }
    },
    {
      "cell_type": "markdown",
      "source": [
        "Проверка работы метода"
      ],
      "metadata": {
        "id": "BgenTo-XOa6X"
      }
    },
    {
      "cell_type": "code",
      "execution_count": 4,
      "source": [
        "this = download_json('https://api.hh.ru/vacancies/10000007')\r\n",
        "print(json.dumps(this, sort_keys=True, indent=2, ensure_ascii=False))"
      ],
      "outputs": [
        {
          "output_type": "stream",
          "name": "stdout",
          "text": [
            "{\n",
            "  \"accept_handicapped\": false,\n",
            "  \"accept_incomplete_resumes\": true,\n",
            "  \"accept_kids\": false,\n",
            "  \"accept_temporary\": false,\n",
            "  \"address\": null,\n",
            "  \"allow_messages\": true,\n",
            "  \"alternate_url\": \"https://hh.ru/vacancy/10000007\",\n",
            "  \"apply_alternate_url\": \"https://hh.ru/applicant/vacancy_response?vacancyId=10000007\",\n",
            "  \"archived\": true,\n",
            "  \"area\": {\n",
            "    \"id\": \"160\",\n",
            "    \"name\": \"Алматы\",\n",
            "    \"url\": \"https://api.hh.ru/areas/160\"\n",
            "  },\n",
            "  \"billing_type\": {\n",
            "    \"id\": \"free\",\n",
            "    \"name\": \"Бесплатная\"\n",
            "  },\n",
            "  \"branded_description\": null,\n",
            "  \"code\": null,\n",
            "  \"contacts\": null,\n",
            "  \"created_at\": \"2014-03-17T15:09:31+0400\",\n",
            "  \"department\": null,\n",
            "  \"description\": \"<p><strong>Требование:</strong></p> <ul> <li>грамотная речь</li> <li>пользователь ПК</li> </ul> <p><strong>Обязанности:</strong></p> <ul> <li>обработка звонков</li> <li>консультация клиентов по телефону</li> <li>назначение встреч</li> </ul> <p><strong>Условия:</strong></p> <ul> <li>оклад + бонусы</li> <li>график работы с 10.00 до 19.00</li> <li>6\\\\1 </li> <li>перспектива карьерного роста</li> <li>оформление по ТК</li> <li>дружный коллектив</li> </ul>\",\n",
            "  \"driver_license_types\": [],\n",
            "  \"employer\": {\n",
            "    \"alternate_url\": \"https://hh.ru/employer/1467416\",\n",
            "    \"id\": \"1467416\",\n",
            "    \"logo_urls\": {\n",
            "      \"240\": \"https://hhcdn.ru/employer-logo/3571500.jpeg\",\n",
            "      \"90\": \"https://hhcdn.ru/employer-logo/3571499.jpeg\",\n",
            "      \"original\": \"https://hhcdn.ru/employer-logo-original/782652.jpg\"\n",
            "    },\n",
            "    \"name\": \"Clean Planet\",\n",
            "    \"trusted\": true,\n",
            "    \"url\": \"https://api.hh.ru/employers/1467416\",\n",
            "    \"vacancies_url\": \"https://api.hh.ru/vacancies?employer_id=1467416\"\n",
            "  },\n",
            "  \"employment\": {\n",
            "    \"id\": \"full\",\n",
            "    \"name\": \"Полная занятость\"\n",
            "  },\n",
            "  \"experience\": {\n",
            "    \"id\": \"noExperience\",\n",
            "    \"name\": \"Нет опыта\"\n",
            "  },\n",
            "  \"has_test\": false,\n",
            "  \"hidden\": false,\n",
            "  \"id\": \"10000007\",\n",
            "  \"insider_interview\": null,\n",
            "  \"key_skills\": [],\n",
            "  \"name\": \"Специалист call-centre\",\n",
            "  \"negotiations_url\": null,\n",
            "  \"premium\": false,\n",
            "  \"published_at\": \"2014-03-17T15:09:31+0400\",\n",
            "  \"quick_responses_allowed\": false,\n",
            "  \"relations\": [],\n",
            "  \"response_letter_required\": false,\n",
            "  \"response_url\": null,\n",
            "  \"salary\": {\n",
            "    \"currency\": \"KZT\",\n",
            "    \"from\": 70000,\n",
            "    \"gross\": null,\n",
            "    \"to\": 150000\n",
            "  },\n",
            "  \"schedule\": {\n",
            "    \"id\": \"fullDay\",\n",
            "    \"name\": \"Полный день\"\n",
            "  },\n",
            "  \"site\": {\n",
            "    \"id\": \"hh\",\n",
            "    \"name\": \"hh.ru\"\n",
            "  },\n",
            "  \"specializations\": [\n",
            "    {\n",
            "      \"id\": \"4.278\",\n",
            "      \"name\": \"Сотрудник call-центра\",\n",
            "      \"profarea_id\": \"4\",\n",
            "      \"profarea_name\": \"Административный персонал\"\n",
            "    }\n",
            "  ],\n",
            "  \"suitable_resumes_url\": null,\n",
            "  \"test\": null,\n",
            "  \"type\": {\n",
            "    \"id\": \"open\",\n",
            "    \"name\": \"Открытая\"\n",
            "  },\n",
            "  \"vacancy_constructor_template\": null,\n",
            "  \"working_days\": [],\n",
            "  \"working_time_intervals\": [],\n",
            "  \"working_time_modes\": []\n",
            "}\n"
          ]
        }
      ],
      "metadata": {
        "colab": {
          "base_uri": "https://localhost:8080/"
        },
        "id": "hLoclnkFPnHo",
        "outputId": "5fdc1fec-09cd-41f3-b9cd-65ee4f5f353d"
      }
    },
    {
      "cell_type": "markdown",
      "source": [
        "## Очистка предложения от HTML-тегов и других лишних символов"
      ],
      "metadata": {
        "id": "4pjxJhikPWsl"
      }
    },
    {
      "cell_type": "code",
      "execution_count": 5,
      "source": [
        "'''\r\n",
        "РЕАЛИЗОВАТЬ remove_garbage\r\n",
        "Используйте regex\r\n",
        "IN: str '<p>ТРЕБОВАНИЯ: <br />- обязательно высшее или незаконченное высшее экономическое образование;...'\r\n",
        "OUT: str 'ТРЕБОВАНИЯ: - обязательно высшее или незаконченное высшее экономическое образование;...'\r\n",
        "'''\r\n",
        "\r\n",
        "def remove_garbage(raw_text):\r\n",
        "  # tags = r'<\\S*\\s*\\S*>'\r\n",
        "  tags = r'<.*?>'\r\n",
        "  quot = r'&quot|«|»'\r\n",
        "  puncts = r'•|∙|●'\r\n",
        "  dash = r'–|—|―|–|--|_'\r\n",
        "  zero_witdth = r'\\u200b|\\u200d'\r\n",
        "  emoji = r'✔|☎️|❗️|⏰|❕|☎|▀|▄|★|⚡|▶|✔️|✂️|❶|❷|❸|❹|③|②|✅'\r\n",
        "  banwords = [tags, quot, puncts, dash, zero_witdth, emoji]\r\n",
        "  text = raw_text\r\n",
        "  for ex in banwords:\r\n",
        "    text = ' '.join(elem.strip() for elem in  re.split(ex, text))\r\n",
        "  return text"
      ],
      "outputs": [],
      "metadata": {
        "id": "TR80d6BquBcm"
      }
    },
    {
      "cell_type": "markdown",
      "source": [
        "Проверка работы метода"
      ],
      "metadata": {
        "id": "kud10hrxOa6b"
      }
    },
    {
      "cell_type": "code",
      "execution_count": 6,
      "source": [
        "example = remove_garbage(\"<p>ТРЕБОВАНИЯ: <br />- обязательно высшее или незаконченное высшее экономическое образование;...\")\r\n",
        "print(example)\r\n",
        "print(\"ТРЕБОВАНИЯ: - обязательно высшее или незаконченное высшее экономическое образование;...\")"
      ],
      "outputs": [
        {
          "output_type": "stream",
          "name": "stdout",
          "text": [
            "ТРЕБОВАНИЯ: - обязательно высшее или незаконченное высшее экономическое образование;...\n",
            "ТРЕБОВАНИЯ: - обязательно высшее или незаконченное высшее экономическое образование;...\n"
          ]
        }
      ],
      "metadata": {
        "colab": {
          "base_uri": "https://localhost:8080/"
        },
        "id": "SQWguRMx4g1L",
        "outputId": "2e535142-375b-4f45-c1af-6118609b7d1d"
      }
    },
    {
      "cell_type": "markdown",
      "source": [
        "## Токенизация"
      ],
      "metadata": {
        "id": "CB5dx9icPieR"
      }
    },
    {
      "cell_type": "code",
      "execution_count": 7,
      "source": [
        "'''\r\n",
        "РЕАЛИЗОВАТЬ tokenize\r\n",
        "Используйте word_tokenize из nltk.tokenize\r\n",
        "IN: str 'ТРЕБОВАНИЯ: - обязательно высшее или незаконченное высшее экономическое образование;...'\r\n",
        "OUT: list ['требования', ':', '-', 'обязательно', 'высшее', 'или', 'незаконченное', 'высшее', 'экономическое', 'образование']\r\n",
        "'''\r\n",
        "\r\n",
        "def tokenize(raw_text):\r\n",
        "  tokens = nltk.word_tokenize(raw_text.lower(), language='russian')\r\n",
        "  return tokens"
      ],
      "outputs": [],
      "metadata": {
        "id": "0trYWVvtIkOW"
      }
    },
    {
      "cell_type": "markdown",
      "source": [
        "Проверка работы метода"
      ],
      "metadata": {
        "id": "mrJo5eFQOa6c"
      }
    },
    {
      "cell_type": "code",
      "execution_count": 8,
      "source": [
        "print(tokenize(\"ТРЕБОВАНИЯ: - обязательно высшее или незаконченное высшее экономическое образование;...\"))\r\n",
        "print(['требования', ':', '-', 'обязательно', 'высшее', 'или', 'незаконченное', 'высшее', 'экономическое', 'образование'])"
      ],
      "outputs": [
        {
          "output_type": "stream",
          "name": "stdout",
          "text": [
            "['требования', ':', '-', 'обязательно', 'высшее', 'или', 'незаконченное', 'высшее', 'экономическое', 'образование', ';', '...']\n",
            "['требования', ':', '-', 'обязательно', 'высшее', 'или', 'незаконченное', 'высшее', 'экономическое', 'образование']\n"
          ]
        }
      ],
      "metadata": {
        "colab": {
          "base_uri": "https://localhost:8080/"
        },
        "id": "cWa3fPXN43ca",
        "outputId": "a8fc49d8-100d-4808-b7dc-857084e0750a"
      }
    },
    {
      "cell_type": "markdown",
      "source": [
        "## Приведение токенов к базовой форме"
      ],
      "metadata": {
        "id": "wGHRN5niP1k1"
      }
    },
    {
      "cell_type": "code",
      "execution_count": 9,
      "source": [
        "'''\r\n",
        "РЕАЛИЗОВАТЬ to_base_form\r\n",
        "Можно использовать и лемматизацию и стемминг: pymystem3, ntlk, Spacy, gensim\r\n",
        "IN: str 'Красивая мама красиво мыла раму'\r\n",
        "OUT: str 'красивый мама красиво мыть рама'\r\n",
        "'''\r\n",
        "\r\n",
        "## pymorphy2\r\n",
        "# morph = pymorphy2.MorphAnalyzer(lang='ru')\r\n",
        "# \r\n",
        "# def to_base_form(raw_text):\r\n",
        "#   text = ''\r\n",
        "#   for word in raw_text.split(' '):\r\n",
        "#     text += ' ' + morph.parse(word)[0].normal_form\r\n",
        "#   return text.strip()\r\n",
        "\r\n",
        "## pymystem\r\n",
        "def to_base_form(raw_text):\r\n",
        "  lemmatizer = pymystem3.Mystem()\r\n",
        "  tokens = lemmatizer.lemmatize(raw_text)\r\n",
        "  return ''.join(elem for elem in tokens).strip()"
      ],
      "outputs": [],
      "metadata": {
        "id": "Jp-S1920L6QT"
      }
    },
    {
      "cell_type": "markdown",
      "source": [
        "Проверка работы метода"
      ],
      "metadata": {
        "id": "eNxOg9XHOa6e"
      }
    },
    {
      "cell_type": "code",
      "execution_count": 10,
      "source": [
        "print(to_base_form('красивая мама красиво мыла раму'))\r\n",
        "print('красивый мама красиво мыть рама')"
      ],
      "outputs": [
        {
          "output_type": "stream",
          "name": "stdout",
          "text": [
            "красивый мама красиво мыть рама\n",
            "красивый мама красиво мыть рама\n"
          ]
        }
      ],
      "metadata": {
        "colab": {
          "base_uri": "https://localhost:8080/"
        },
        "id": "2havYH06ToyC",
        "outputId": "06539a81-c543-4b67-e61f-72a87d84f338"
      }
    },
    {
      "cell_type": "markdown",
      "source": [
        "## Удаление стоп-слов"
      ],
      "metadata": {
        "id": "nn80GkRrTpuK"
      }
    },
    {
      "cell_type": "code",
      "execution_count": 11,
      "source": [
        "'''\r\n",
        "РЕАЛИЗОВАТЬ remove_stop_words\r\n",
        "Используйте stopwords из nltk.corpus \r\n",
        "IN: list ['требования', ':', '-', 'обязательно', 'высший', 'или', 'незаконченный', 'высший', 'экономический', 'образование']\r\n",
        "OUT: list ['требование', 'обязательно', 'высший', 'незаконченный', 'высший', 'экономический', 'образование']\r\n",
        "'''\r\n",
        "\r\n",
        "def remove_stop_words(raw_text):\r\n",
        "  punc = [elem for elem in punctuation]\r\n",
        "  banwords = nltk.corpus.stopwords.words(fileids='russian') + punc\r\n",
        "  return ' '.join(elem.strip() for elem in raw_text if elem not in banwords).split()"
      ],
      "outputs": [],
      "metadata": {
        "id": "2FCOqsQPuxQE"
      }
    },
    {
      "cell_type": "markdown",
      "source": [
        "Проверка работы метода"
      ],
      "metadata": {
        "id": "9qu2qLyAOa6g"
      }
    },
    {
      "cell_type": "code",
      "execution_count": 12,
      "source": [
        "print(remove_stop_words(['требования', ':', '-', 'обязательно', 'высший', 'или', 'незаконченный', 'высший', 'экономический', 'образование']))\r\n",
        "print(['требование', 'обязательно', 'высший', 'незаконченный', 'высший', 'экономический', 'образование'])"
      ],
      "outputs": [
        {
          "output_type": "stream",
          "name": "stdout",
          "text": [
            "['требования', 'обязательно', 'высший', 'незаконченный', 'высший', 'экономический', 'образование']\n",
            "['требование', 'обязательно', 'высший', 'незаконченный', 'высший', 'экономический', 'образование']\n"
          ]
        }
      ],
      "metadata": {
        "colab": {
          "base_uri": "https://localhost:8080/"
        },
        "id": "9d1_ialXOa6i",
        "outputId": "2846a3a5-f7bc-47c5-9a91-0b4274254d6a"
      }
    },
    {
      "cell_type": "markdown",
      "source": [
        "## Получение подготовленного описания вакансии "
      ],
      "metadata": {
        "id": "T_lwc3jpVBHB"
      }
    },
    {
      "cell_type": "code",
      "execution_count": 13,
      "source": [
        "'''\r\n",
        "РЕАЛИЗОВАТЬ get_prepared_vacancy_description_from_hh\r\n",
        "Используйте реализованные ранее методы\r\n",
        "IN: int 72323\r\n",
        "OUT1: str vacancy_json dump\r\n",
        "OUT2: list[list] [['требование', 'обязательно', 'высший', 'незаконченный', 'высший', 'экономический', 'образование', ...], [...], ...]\r\n",
        "'''\r\n",
        "def get_prepared_vacancy_from_hh(vacancy_id):\r\n",
        "  base_url = 'https://api.hh.ru/vacancies/'\r\n",
        "  vacancy_json = download_json(base_url + str(vacancy_id))\r\n",
        "  vacancy_description = vacancy_json['description']\r\n",
        "  vacancy_description_sentences = nltk.tokenize.sent_tokenize(vacancy_description)\r\n",
        "  prepared_vacancy_description = []\r\n",
        "  for sentence in vacancy_description_sentences:\r\n",
        "    ungarbaged = remove_garbage(sentence)\r\n",
        "    based = to_base_form(ungarbaged)\r\n",
        "    tokenized = tokenize(based)\r\n",
        "    prepared = remove_stop_words(tokenized)\r\n",
        "    prepared_vacancy_description += [prepared]\r\n",
        "  return vacancy_json, prepared_vacancy_description"
      ],
      "outputs": [],
      "metadata": {
        "id": "HV4CVKnDvFil"
      }
    },
    {
      "cell_type": "markdown",
      "source": [
        "Проверка работы метода"
      ],
      "metadata": {
        "id": "n1ebHdlfOa6o"
      }
    },
    {
      "cell_type": "code",
      "execution_count": 14,
      "source": [
        "prepared_json, prepared_desc = get_prepared_vacancy_from_hh(43551857)"
      ],
      "outputs": [],
      "metadata": {
        "id": "BM-PazsMOa6p"
      }
    },
    {
      "cell_type": "code",
      "execution_count": 15,
      "source": [
        "print(prepared_json)\r\n",
        "print('\\n-----------------------\\n')\r\n",
        "print(prepared_desc)"
      ],
      "outputs": [
        {
          "output_type": "stream",
          "name": "stdout",
          "text": [
            "{'id': '43551857', 'premium': False, 'billing_type': {'id': 'standard', 'name': 'Стандарт'}, 'relations': [], 'name': 'Рабочий в производственные цеха', 'insider_interview': None, 'response_letter_required': False, 'area': {'id': '68', 'name': 'Омск', 'url': 'https://api.hh.ru/areas/68'}, 'salary': {'from': 24000, 'to': 41000, 'currency': 'RUR', 'gross': False}, 'type': {'id': 'open', 'name': 'Открытая'}, 'address': {'city': 'Омск', 'street': 'улица Будеркина', 'building': '2', 'description': None, 'lat': 54.9591513865, 'lng': 73.437212985, 'raw': 'Омск, улица Будеркина, 2', 'metro': None, 'metro_stations': []}, 'allow_messages': True, 'site': {'id': 'hh', 'name': 'hh.ru'}, 'experience': {'id': 'noExperience', 'name': 'Нет опыта'}, 'schedule': {'id': 'shift', 'name': 'Сменный график'}, 'employment': {'id': 'full', 'name': 'Полная занятость'}, 'department': None, 'contacts': None, 'description': '<p><strong>Обязанности:</strong></p> <ul> <li>Работа в производственных цехах.</li> </ul> <p><strong>Требования:</strong></p> <ul> <li>Рассматриваются все кандидаты, желающие работать.</li> </ul> <p><strong>Условия:</strong></p> <ul> <li>Официальное трудоустройство;</li> <li>Своевременная, стабильная выплата заработной платы (ежегодное повышение заработной платы);</li> <li>Сменные графики работы со смещенным выходным днем;</li> <li>Обучение рабочей профессии на рабочем месте;</li> <li>Дополнительные выплаты в значимых событиях (рождение детей, заключение брака и пр.);</li> <li>Возможность карьерного роста и развития;</li> <li>Обучение за счёт Компании;</li> <li>50 % скидка при покупке шин &quot;Кордиант&quot;;</li> <li>Льготные путевки в оздоровительные учреждения;</li> <li>Оплачиваемый бассейн для сотрудников;</li> <li>Компенсации содержания детей в детских садах;</li> <li>Детские подарки к Новому году.</li> </ul> <p><strong>Всех желающих ждем:</strong></p> <ul> <li>Собеседования проводятся ежедневно (кроме субботы и воскресенья);</li> <li>Время: 13:00</li> <li>Адрес: ул. П.Будеркина 2, остановка: Шинный завод, отдел подбора и обучения персонала</li> <li>При себе: паспорт и трудовая книжка</li> </ul>', 'branded_description': None, 'vacancy_constructor_template': {'id': 23688, 'name': 'Производственные вакансии ОШЗ', 'top_picture': {'height': 699, 'width': 1920, 'path': 'https://hhcdn.ru/branding-pictures/671941.png', 'blurred_path': 'https://hhcdn.ru/branding-pictures-blurred/671943.png'}, 'bottom_picture': {'height': 352, 'width': 770, 'path': 'https://hhcdn.ru/branding-pictures/671948.png', 'blurred_path': 'https://hhcdn.ru/branding-pictures-blurred/671950.png'}}, 'key_skills': [], 'accept_handicapped': False, 'accept_kids': False, 'archived': False, 'response_url': None, 'specializations': [{'id': '18.348', 'name': 'Химическая промышленность', 'profarea_id': '18', 'profarea_name': 'Производство, сельское хозяйство'}, {'id': '29.588', 'name': 'Другое', 'profarea_id': '29', 'profarea_name': 'Рабочий персонал'}, {'id': '29.558', 'name': 'Шлифовщик', 'profarea_id': '29', 'profarea_name': 'Рабочий персонал'}, {'id': '29.511', 'name': 'Токарь, Фрезеровщик', 'profarea_id': '29', 'profarea_name': 'Рабочий персонал'}, {'id': '29.515', 'name': 'Электрик', 'profarea_id': '29', 'profarea_name': 'Рабочий персонал'}, {'id': '15.237', 'name': 'Производство, Технологии', 'profarea_id': '15', 'profarea_name': 'Начало карьеры, студенты'}], 'code': None, 'hidden': False, 'quick_responses_allowed': False, 'driver_license_types': [], 'accept_incomplete_resumes': True, 'employer': {'id': '3710', 'name': 'Кордиант', 'url': 'https://api.hh.ru/employers/3710', 'alternate_url': 'https://hh.ru/employer/3710', 'logo_urls': {'240': 'https://hhcdn.ru/employer-logo/3807296.png', '90': 'https://hhcdn.ru/employer-logo/3807295.png', 'original': 'https://hhcdn.ru/employer-logo-original/841605.png'}, 'vacancies_url': 'https://api.hh.ru/vacancies?employer_id=3710', 'trusted': True}, 'published_at': '2021-09-28T06:35:45+0300', 'created_at': '2021-09-28T06:35:45+0300', 'negotiations_url': None, 'suitable_resumes_url': None, 'apply_alternate_url': 'https://hh.ru/applicant/vacancy_response?vacancyId=43551857', 'has_test': False, 'test': None, 'alternate_url': 'https://hh.ru/vacancy/43551857', 'working_days': [], 'working_time_intervals': [], 'working_time_modes': [], 'accept_temporary': False}\n",
            "\n",
            "-----------------------\n",
            "\n",
            "[['обязанность', 'работа', 'производственный', 'цех', 'требование', 'рассматриваться', 'весь', 'кандидат', 'желать', 'работать', 'условие', 'официальный', 'трудоустройство', 'своевременный', 'стабильный', 'выплата', 'заработный', 'плата', 'ежегодный', 'повышение', 'заработный', 'плата', 'сменный', 'график', 'работа', 'смещать', 'выходной', 'день', 'обучение', 'рабочий', 'профессия', 'рабочий', 'место', 'дополнительный', 'выплата', 'значимый', 'событие', 'рождение', 'ребенок', 'заключение', 'брак', 'пр'], ['возможность', 'карьерный', 'рост', 'развитие', 'обучение', 'счет', 'компания', '50', 'скидка', 'покупка', 'шина', 'кордиант', 'льготный', 'путевка', 'оздоровительный', 'учреждение', 'оплачивать', 'бассейн', 'сотрудник', 'компенсация', 'содержание', 'ребенок', 'детский', 'сад', 'детский', 'подарок', 'новый', 'год.', 'весь', 'желающий', 'ждать', 'собеседование', 'проводиться', 'ежедневно', 'кроме', 'суббота', 'воскресение', 'время', '13:00', 'адрес', 'ул'], ['п.будеркина', '2', 'остановка', 'шинный', 'завод', 'отдел', 'подбор', 'обучение', 'персонал', 'паспорт', 'трудовой', 'книжка']]\n"
          ]
        }
      ],
      "metadata": {
        "colab": {
          "base_uri": "https://localhost:8080/"
        },
        "id": "Q31BtGBEOa6p",
        "outputId": "61010984-b50d-4a77-f582-c6e98bb310e9"
      }
    },
    {
      "cell_type": "markdown",
      "source": [
        "## Получение всех подготовленных вакансий"
      ],
      "metadata": {
        "id": "opQB4sfqVybi"
      }
    },
    {
      "cell_type": "code",
      "execution_count": 16,
      "source": [
        "'''\r\n",
        "РЕАЛИЗОВАТЬ get_prepared_all_vacancies_from_hh\r\n",
        "Используйте get_prepared_vacancy_from_hh и ThreadPoolExecutor из concurrent.futures\r\n",
        "IN: list [int]\r\n",
        "OUT: list [vacancy_id, raw_description, prepared_description]\r\n",
        "'''\r\n",
        "##\r\n",
        "# возвращаемое значение изменено с list[int, str, list[list[str]]] на list[list[int, str, list[list[str]]]]\r\n",
        "##\r\n",
        "def get_prepared_all_vacancies_from_hh(vacancy_ids):\r\n",
        "  res = []\r\n",
        "  with concurrent.futures.ThreadPoolExecutor() as executor:\r\n",
        "    futures = {executor.submit(get_prepared_vacancy_from_hh, vacancy_id): vacancy_id for vacancy_id in vacancy_ids}\r\n",
        "    for future in concurrent.futures.as_completed(futures):\r\n",
        "      json, desc = future.result()\r\n",
        "      res.append([futures[future], json, desc])\r\n",
        "  return res"
      ],
      "outputs": [],
      "metadata": {
        "id": "4CBLmNNKDFWZ"
      }
    },
    {
      "cell_type": "markdown",
      "source": [
        "Проверка работы метода"
      ],
      "metadata": {}
    },
    {
      "cell_type": "code",
      "execution_count": 17,
      "source": [
        "id_list = np.random.randint(10000000, 45000000, 3500)\r\n",
        "result = get_prepared_all_vacancies_from_hh(id_list)\r\n",
        "# pymorphy2: 816.2s\r\n",
        "# pymystem3: 3197.5s"
      ],
      "outputs": [],
      "metadata": {
        "id": "LQmkVJeHOa6q"
      }
    },
    {
      "cell_type": "code",
      "execution_count": 20,
      "source": [
        "csv = pd.DataFrame(result, columns=['id', 'raw_json', 'description'])\r\n",
        "display(csv.head(50))"
      ],
      "outputs": [
        {
          "output_type": "display_data",
          "data": {
            "text/html": [
              "<div>\n",
              "<style scoped>\n",
              "    .dataframe tbody tr th:only-of-type {\n",
              "        vertical-align: middle;\n",
              "    }\n",
              "\n",
              "    .dataframe tbody tr th {\n",
              "        vertical-align: top;\n",
              "    }\n",
              "\n",
              "    .dataframe thead th {\n",
              "        text-align: right;\n",
              "    }\n",
              "</style>\n",
              "<table border=\"1\" class=\"dataframe\">\n",
              "  <thead>\n",
              "    <tr style=\"text-align: right;\">\n",
              "      <th></th>\n",
              "      <th>id</th>\n",
              "      <th>raw_json</th>\n",
              "      <th>description</th>\n",
              "    </tr>\n",
              "  </thead>\n",
              "  <tbody>\n",
              "    <tr>\n",
              "      <th>0</th>\n",
              "      <td>20514076</td>\n",
              "      <td>{'id': '20514076', 'premium': False, 'billing_...</td>\n",
              "      <td>[[обязанность, проектирование, технологический...</td>\n",
              "    </tr>\n",
              "    <tr>\n",
              "      <th>1</th>\n",
              "      <td>27771233</td>\n",
              "      <td>{'id': '27771233', 'premium': False, 'billing_...</td>\n",
              "      <td>[[обязанность, работа, адресный, система, скла...</td>\n",
              "    </tr>\n",
              "    <tr>\n",
              "      <th>2</th>\n",
              "      <td>36743137</td>\n",
              "      <td>{'id': '36743137', 'premium': False, 'billing_...</td>\n",
              "      <td>[[обязанность, обслуживание, покупатель, касса...</td>\n",
              "    </tr>\n",
              "    <tr>\n",
              "      <th>3</th>\n",
              "      <td>16812757</td>\n",
              "      <td>{'id': '16812757', 'premium': False, 'billing_...</td>\n",
              "      <td>[[обязанность, оптимизация, работа, существующ...</td>\n",
              "    </tr>\n",
              "    <tr>\n",
              "      <th>4</th>\n",
              "      <td>41806844</td>\n",
              "      <td>{'id': '41806844', 'premium': False, 'billing_...</td>\n",
              "      <td>[[обязанность, продвижение, продукт, компания,...</td>\n",
              "    </tr>\n",
              "    <tr>\n",
              "      <th>5</th>\n",
              "      <td>14176125</td>\n",
              "      <td>{'id': '14176125', 'premium': False, 'billing_...</td>\n",
              "      <td>[[хороший, сеть, фитнес, клуб, город, объявлят...</td>\n",
              "    </tr>\n",
              "    <tr>\n",
              "      <th>6</th>\n",
              "      <td>17930644</td>\n",
              "      <td>{'id': '17930644', 'premium': False, 'billing_...</td>\n",
              "      <td>[[обязанность, прием, оценка, золото, техника,...</td>\n",
              "    </tr>\n",
              "    <tr>\n",
              "      <th>7</th>\n",
              "      <td>17307642</td>\n",
              "      <td>{'id': '17307642', 'premium': False, 'billing_...</td>\n",
              "      <td>[[обязанность, проверка, оприходование, расцен...</td>\n",
              "    </tr>\n",
              "    <tr>\n",
              "      <th>8</th>\n",
              "      <td>19426536</td>\n",
              "      <td>{'id': '19426536', 'premium': False, 'billing_...</td>\n",
              "      <td>[[обязанность, осуществлять, контроль, соблюде...</td>\n",
              "    </tr>\n",
              "    <tr>\n",
              "      <th>9</th>\n",
              "      <td>34481856</td>\n",
              "      <td>{'id': '34481856', 'premium': False, 'billing_...</td>\n",
              "      <td>[[обязанность, организация, эффективный, работ...</td>\n",
              "    </tr>\n",
              "    <tr>\n",
              "      <th>10</th>\n",
              "      <td>14821510</td>\n",
              "      <td>{'id': '14821510', 'premium': False, 'billing_...</td>\n",
              "      <td>[[обязанность, организация, контроль, работа, ...</td>\n",
              "    </tr>\n",
              "    <tr>\n",
              "      <th>11</th>\n",
              "      <td>14482688</td>\n",
              "      <td>{'id': '14482688', 'premium': False, 'billing_...</td>\n",
              "      <td>[[обязанность, метрологический, обслуживание, ...</td>\n",
              "    </tr>\n",
              "    <tr>\n",
              "      <th>12</th>\n",
              "      <td>34823516</td>\n",
              "      <td>{'id': '34823516', 'premium': False, 'billing_...</td>\n",
              "      <td>[[компания, продажа, мобильный, телефон, аксес...</td>\n",
              "    </tr>\n",
              "    <tr>\n",
              "      <th>13</th>\n",
              "      <td>19002163</td>\n",
              "      <td>{'id': '19002163', 'premium': False, 'billing_...</td>\n",
              "      <td>[[курьер, интернет-магазин, обязанность, доста...</td>\n",
              "    </tr>\n",
              "    <tr>\n",
              "      <th>14</th>\n",
              "      <td>35163246</td>\n",
              "      <td>{'description': '404 Page Not Found'}</td>\n",
              "      <td>[[404, page, not, found]]</td>\n",
              "    </tr>\n",
              "    <tr>\n",
              "      <th>15</th>\n",
              "      <td>25096555</td>\n",
              "      <td>{'id': '25096555', 'premium': False, 'billing_...</td>\n",
              "      <td>[[дорогой, кандидат, наш, сеть, магазин, парфю...</td>\n",
              "    </tr>\n",
              "    <tr>\n",
              "      <th>16</th>\n",
              "      <td>20763354</td>\n",
              "      <td>{'id': '20763354', 'premium': False, 'billing_...</td>\n",
              "      <td>[[требование, высокий, образование, владение, ...</td>\n",
              "    </tr>\n",
              "    <tr>\n",
              "      <th>17</th>\n",
              "      <td>24533949</td>\n",
              "      <td>{'id': '24533949', 'premium': False, 'billing_...</td>\n",
              "      <td>[[нужный, творческий, человек, знание, графиче...</td>\n",
              "    </tr>\n",
              "    <tr>\n",
              "      <th>18</th>\n",
              "      <td>43577784</td>\n",
              "      <td>{'id': '43577784', 'premium': False, 'billing_...</td>\n",
              "      <td>[[торговый, сеть, перекресток, объединять, хор...</td>\n",
              "    </tr>\n",
              "    <tr>\n",
              "      <th>19</th>\n",
              "      <td>15855727</td>\n",
              "      <td>{'id': '15855727', 'premium': False, 'billing_...</td>\n",
              "      <td>[[обязанность, выполнение, план, продажа, собл...</td>\n",
              "    </tr>\n",
              "    <tr>\n",
              "      <th>20</th>\n",
              "      <td>12891775</td>\n",
              "      <td>{'id': '12891775', 'premium': False, 'billing_...</td>\n",
              "      <td>[[компания, биглион, это, лидер, рынок, скидка...</td>\n",
              "    </tr>\n",
              "    <tr>\n",
              "      <th>21</th>\n",
              "      <td>19888079</td>\n",
              "      <td>{'id': '19888079', 'premium': False, 'billing_...</td>\n",
              "      <td>[[студия, интернет-маркетинг, требоваться, кре...</td>\n",
              "    </tr>\n",
              "    <tr>\n",
              "      <th>22</th>\n",
              "      <td>34233882</td>\n",
              "      <td>{'id': '34233882', 'premium': False, 'billing_...</td>\n",
              "      <td>[[обязанность, осуществление, работа, техничес...</td>\n",
              "    </tr>\n",
              "    <tr>\n",
              "      <th>23</th>\n",
              "      <td>30988384</td>\n",
              "      <td>{'description': '404 Page Not Found'}</td>\n",
              "      <td>[[404, page, not, found]]</td>\n",
              "    </tr>\n",
              "    <tr>\n",
              "      <th>24</th>\n",
              "      <td>31471460</td>\n",
              "      <td>{'id': '31471460', 'premium': False, 'billing_...</td>\n",
              "      <td>[[обязанность, ведение, бухгалтерский, учет, в...</td>\n",
              "    </tr>\n",
              "    <tr>\n",
              "      <th>25</th>\n",
              "      <td>36181921</td>\n",
              "      <td>{'id': '36181921', 'premium': False, 'billing_...</td>\n",
              "      <td>[[арматурный, завод, гусар, входить, число, кр...</td>\n",
              "    </tr>\n",
              "    <tr>\n",
              "      <th>26</th>\n",
              "      <td>18114737</td>\n",
              "      <td>{'description': '404 Page Not Found'}</td>\n",
              "      <td>[[404, page, not, found]]</td>\n",
              "    </tr>\n",
              "    <tr>\n",
              "      <th>27</th>\n",
              "      <td>41062398</td>\n",
              "      <td>{'id': '41062398', 'premium': False, 'billing_...</td>\n",
              "      <td>[[компания, живой, баня, 2014, год, строить, з...</td>\n",
              "    </tr>\n",
              "    <tr>\n",
              "      <th>28</th>\n",
              "      <td>31518365</td>\n",
              "      <td>{'id': '31518365', 'premium': False, 'billing_...</td>\n",
              "      <td>[[вакансия, открывать, г., южно-сахалинск, сах...</td>\n",
              "    </tr>\n",
              "    <tr>\n",
              "      <th>29</th>\n",
              "      <td>14866057</td>\n",
              "      <td>{'id': '14866057', 'premium': False, 'billing_...</td>\n",
              "      <td>[[обязанность, консультирование, клиент, торго...</td>\n",
              "    </tr>\n",
              "    <tr>\n",
              "      <th>30</th>\n",
              "      <td>27719688</td>\n",
              "      <td>{'id': '27719688', 'premium': False, 'billing_...</td>\n",
              "      <td>[[обязанность, транспортировка, товар, склад, ...</td>\n",
              "    </tr>\n",
              "    <tr>\n",
              "      <th>31</th>\n",
              "      <td>15898247</td>\n",
              "      <td>{'id': '15898247', 'premium': False, 'billing_...</td>\n",
              "      <td>[[обязанность, -исходить, звонок, исключительн...</td>\n",
              "    </tr>\n",
              "    <tr>\n",
              "      <th>32</th>\n",
              "      <td>26333460</td>\n",
              "      <td>{'id': '26333460', 'premium': False, 'billing_...</td>\n",
              "      <td>[[обязанность, полный, цикл, взаимодействие, п...</td>\n",
              "    </tr>\n",
              "    <tr>\n",
              "      <th>33</th>\n",
              "      <td>44069862</td>\n",
              "      <td>{'id': '44069862', 'premium': False, 'billing_...</td>\n",
              "      <td>[[обязанность, разработка, автотест, выявление...</td>\n",
              "    </tr>\n",
              "    <tr>\n",
              "      <th>34</th>\n",
              "      <td>44155333</td>\n",
              "      <td>{'id': '44155333', 'premium': False, 'billing_...</td>\n",
              "      <td>[[самый, крупный, онлайн, банк, требоваться, к...</td>\n",
              "    </tr>\n",
              "    <tr>\n",
              "      <th>35</th>\n",
              "      <td>31615064</td>\n",
              "      <td>{'id': '31615064', 'premium': False, 'billing_...</td>\n",
              "      <td>[[обязанность, работа, иметься, клиентский, ба...</td>\n",
              "    </tr>\n",
              "    <tr>\n",
              "      <th>36</th>\n",
              "      <td>27690938</td>\n",
              "      <td>{'id': '27690938', 'premium': False, 'billing_...</td>\n",
              "      <td>[[обязанность, осуществление, операция, обслуж...</td>\n",
              "    </tr>\n",
              "    <tr>\n",
              "      <th>37</th>\n",
              "      <td>32474944</td>\n",
              "      <td>{'id': '32474944', 'premium': False, 'billing_...</td>\n",
              "      <td>[[производство, приглашать, работа, сотрудник,...</td>\n",
              "    </tr>\n",
              "    <tr>\n",
              "      <th>38</th>\n",
              "      <td>39104545</td>\n",
              "      <td>{'id': '39104545', 'premium': False, 'billing_...</td>\n",
              "      <td>[[обязанность, технический, обслуживание, свое...</td>\n",
              "    </tr>\n",
              "    <tr>\n",
              "      <th>39</th>\n",
              "      <td>13599038</td>\n",
              "      <td>{'id': '13599038', 'premium': False, 'billing_...</td>\n",
              "      <td>[[обязанность, организация, контроль, работа, ...</td>\n",
              "    </tr>\n",
              "    <tr>\n",
              "      <th>40</th>\n",
              "      <td>33189916</td>\n",
              "      <td>{'id': '33189916', 'premium': False, 'billing_...</td>\n",
              "      <td>[[обязанность, работа, входящий, звонок, требо...</td>\n",
              "    </tr>\n",
              "    <tr>\n",
              "      <th>41</th>\n",
              "      <td>13279790</td>\n",
              "      <td>{'id': '13279790', 'premium': False, 'billing_...</td>\n",
              "      <td>[[обязанность, верстка, веб-, промой-ресурс, у...</td>\n",
              "    </tr>\n",
              "    <tr>\n",
              "      <th>42</th>\n",
              "      <td>39722774</td>\n",
              "      <td>{'id': '39722774', 'premium': False, 'billing_...</td>\n",
              "      <td>[[предоставлять, интернет, связь, труднодоступ...</td>\n",
              "    </tr>\n",
              "    <tr>\n",
              "      <th>43</th>\n",
              "      <td>40634823</td>\n",
              "      <td>{'id': '40634823', 'premium': False, 'billing_...</td>\n",
              "      <td>[[нева, сеть, современный, многопрофильный, кл...</td>\n",
              "    </tr>\n",
              "    <tr>\n",
              "      <th>44</th>\n",
              "      <td>11276662</td>\n",
              "      <td>{'id': '11276662', 'premium': False, 'billing_...</td>\n",
              "      <td>[[должностной, обязанность, выкладка, продукци...</td>\n",
              "    </tr>\n",
              "    <tr>\n",
              "      <th>45</th>\n",
              "      <td>20750743</td>\n",
              "      <td>{'description': '404 Page Not Found'}</td>\n",
              "      <td>[[404, page, not, found]]</td>\n",
              "    </tr>\n",
              "    <tr>\n",
              "      <th>46</th>\n",
              "      <td>24930427</td>\n",
              "      <td>{'id': '24930427', 'premium': False, 'billing_...</td>\n",
              "      <td>[[мебельный, компания, маблос, работать, 1996,...</td>\n",
              "    </tr>\n",
              "    <tr>\n",
              "      <th>47</th>\n",
              "      <td>39577400</td>\n",
              "      <td>{'id': '39577400', 'premium': False, 'billing_...</td>\n",
              "      <td>[[торговый-производственный, компания, лидер, ...</td>\n",
              "    </tr>\n",
              "    <tr>\n",
              "      <th>48</th>\n",
              "      <td>43285425</td>\n",
              "      <td>{'id': '43285425', 'premium': False, 'billing_...</td>\n",
              "      <td>[[redlab, входить, группа, компания, litota], ...</td>\n",
              "    </tr>\n",
              "    <tr>\n",
              "      <th>49</th>\n",
              "      <td>37869187</td>\n",
              "      <td>{'id': '37869187', 'premium': False, 'billing_...</td>\n",
              "      <td>[[обязанность, встречать, провожать, гость, за...</td>\n",
              "    </tr>\n",
              "  </tbody>\n",
              "</table>\n",
              "</div>"
            ],
            "text/plain": [
              "          id                                           raw_json  \\\n",
              "0   20514076  {'id': '20514076', 'premium': False, 'billing_...   \n",
              "1   27771233  {'id': '27771233', 'premium': False, 'billing_...   \n",
              "2   36743137  {'id': '36743137', 'premium': False, 'billing_...   \n",
              "3   16812757  {'id': '16812757', 'premium': False, 'billing_...   \n",
              "4   41806844  {'id': '41806844', 'premium': False, 'billing_...   \n",
              "5   14176125  {'id': '14176125', 'premium': False, 'billing_...   \n",
              "6   17930644  {'id': '17930644', 'premium': False, 'billing_...   \n",
              "7   17307642  {'id': '17307642', 'premium': False, 'billing_...   \n",
              "8   19426536  {'id': '19426536', 'premium': False, 'billing_...   \n",
              "9   34481856  {'id': '34481856', 'premium': False, 'billing_...   \n",
              "10  14821510  {'id': '14821510', 'premium': False, 'billing_...   \n",
              "11  14482688  {'id': '14482688', 'premium': False, 'billing_...   \n",
              "12  34823516  {'id': '34823516', 'premium': False, 'billing_...   \n",
              "13  19002163  {'id': '19002163', 'premium': False, 'billing_...   \n",
              "14  35163246              {'description': '404 Page Not Found'}   \n",
              "15  25096555  {'id': '25096555', 'premium': False, 'billing_...   \n",
              "16  20763354  {'id': '20763354', 'premium': False, 'billing_...   \n",
              "17  24533949  {'id': '24533949', 'premium': False, 'billing_...   \n",
              "18  43577784  {'id': '43577784', 'premium': False, 'billing_...   \n",
              "19  15855727  {'id': '15855727', 'premium': False, 'billing_...   \n",
              "20  12891775  {'id': '12891775', 'premium': False, 'billing_...   \n",
              "21  19888079  {'id': '19888079', 'premium': False, 'billing_...   \n",
              "22  34233882  {'id': '34233882', 'premium': False, 'billing_...   \n",
              "23  30988384              {'description': '404 Page Not Found'}   \n",
              "24  31471460  {'id': '31471460', 'premium': False, 'billing_...   \n",
              "25  36181921  {'id': '36181921', 'premium': False, 'billing_...   \n",
              "26  18114737              {'description': '404 Page Not Found'}   \n",
              "27  41062398  {'id': '41062398', 'premium': False, 'billing_...   \n",
              "28  31518365  {'id': '31518365', 'premium': False, 'billing_...   \n",
              "29  14866057  {'id': '14866057', 'premium': False, 'billing_...   \n",
              "30  27719688  {'id': '27719688', 'premium': False, 'billing_...   \n",
              "31  15898247  {'id': '15898247', 'premium': False, 'billing_...   \n",
              "32  26333460  {'id': '26333460', 'premium': False, 'billing_...   \n",
              "33  44069862  {'id': '44069862', 'premium': False, 'billing_...   \n",
              "34  44155333  {'id': '44155333', 'premium': False, 'billing_...   \n",
              "35  31615064  {'id': '31615064', 'premium': False, 'billing_...   \n",
              "36  27690938  {'id': '27690938', 'premium': False, 'billing_...   \n",
              "37  32474944  {'id': '32474944', 'premium': False, 'billing_...   \n",
              "38  39104545  {'id': '39104545', 'premium': False, 'billing_...   \n",
              "39  13599038  {'id': '13599038', 'premium': False, 'billing_...   \n",
              "40  33189916  {'id': '33189916', 'premium': False, 'billing_...   \n",
              "41  13279790  {'id': '13279790', 'premium': False, 'billing_...   \n",
              "42  39722774  {'id': '39722774', 'premium': False, 'billing_...   \n",
              "43  40634823  {'id': '40634823', 'premium': False, 'billing_...   \n",
              "44  11276662  {'id': '11276662', 'premium': False, 'billing_...   \n",
              "45  20750743              {'description': '404 Page Not Found'}   \n",
              "46  24930427  {'id': '24930427', 'premium': False, 'billing_...   \n",
              "47  39577400  {'id': '39577400', 'premium': False, 'billing_...   \n",
              "48  43285425  {'id': '43285425', 'premium': False, 'billing_...   \n",
              "49  37869187  {'id': '37869187', 'premium': False, 'billing_...   \n",
              "\n",
              "                                          description  \n",
              "0   [[обязанность, проектирование, технологический...  \n",
              "1   [[обязанность, работа, адресный, система, скла...  \n",
              "2   [[обязанность, обслуживание, покупатель, касса...  \n",
              "3   [[обязанность, оптимизация, работа, существующ...  \n",
              "4   [[обязанность, продвижение, продукт, компания,...  \n",
              "5   [[хороший, сеть, фитнес, клуб, город, объявлят...  \n",
              "6   [[обязанность, прием, оценка, золото, техника,...  \n",
              "7   [[обязанность, проверка, оприходование, расцен...  \n",
              "8   [[обязанность, осуществлять, контроль, соблюде...  \n",
              "9   [[обязанность, организация, эффективный, работ...  \n",
              "10  [[обязанность, организация, контроль, работа, ...  \n",
              "11  [[обязанность, метрологический, обслуживание, ...  \n",
              "12  [[компания, продажа, мобильный, телефон, аксес...  \n",
              "13  [[курьер, интернет-магазин, обязанность, доста...  \n",
              "14                          [[404, page, not, found]]  \n",
              "15  [[дорогой, кандидат, наш, сеть, магазин, парфю...  \n",
              "16  [[требование, высокий, образование, владение, ...  \n",
              "17  [[нужный, творческий, человек, знание, графиче...  \n",
              "18  [[торговый, сеть, перекресток, объединять, хор...  \n",
              "19  [[обязанность, выполнение, план, продажа, собл...  \n",
              "20  [[компания, биглион, это, лидер, рынок, скидка...  \n",
              "21  [[студия, интернет-маркетинг, требоваться, кре...  \n",
              "22  [[обязанность, осуществление, работа, техничес...  \n",
              "23                          [[404, page, not, found]]  \n",
              "24  [[обязанность, ведение, бухгалтерский, учет, в...  \n",
              "25  [[арматурный, завод, гусар, входить, число, кр...  \n",
              "26                          [[404, page, not, found]]  \n",
              "27  [[компания, живой, баня, 2014, год, строить, з...  \n",
              "28  [[вакансия, открывать, г., южно-сахалинск, сах...  \n",
              "29  [[обязанность, консультирование, клиент, торго...  \n",
              "30  [[обязанность, транспортировка, товар, склад, ...  \n",
              "31  [[обязанность, -исходить, звонок, исключительн...  \n",
              "32  [[обязанность, полный, цикл, взаимодействие, п...  \n",
              "33  [[обязанность, разработка, автотест, выявление...  \n",
              "34  [[самый, крупный, онлайн, банк, требоваться, к...  \n",
              "35  [[обязанность, работа, иметься, клиентский, ба...  \n",
              "36  [[обязанность, осуществление, операция, обслуж...  \n",
              "37  [[производство, приглашать, работа, сотрудник,...  \n",
              "38  [[обязанность, технический, обслуживание, свое...  \n",
              "39  [[обязанность, организация, контроль, работа, ...  \n",
              "40  [[обязанность, работа, входящий, звонок, требо...  \n",
              "41  [[обязанность, верстка, веб-, промой-ресурс, у...  \n",
              "42  [[предоставлять, интернет, связь, труднодоступ...  \n",
              "43  [[нева, сеть, современный, многопрофильный, кл...  \n",
              "44  [[должностной, обязанность, выкладка, продукци...  \n",
              "45                          [[404, page, not, found]]  \n",
              "46  [[мебельный, компания, маблос, работать, 1996,...  \n",
              "47  [[торговый-производственный, компания, лидер, ...  \n",
              "48  [[redlab, входить, группа, компания, litota], ...  \n",
              "49  [[обязанность, встречать, провожать, гость, за...  "
            ]
          },
          "metadata": {}
        }
      ],
      "metadata": {
        "id": "GHPJ0AiyOa6q"
      }
    },
    {
      "cell_type": "code",
      "execution_count": 47,
      "source": [
        "csv.to_pickle(\"../serialized/dataset.pkl\")"
      ],
      "outputs": [],
      "metadata": {}
    },
    {
      "cell_type": "markdown",
      "source": [
        "Сохранение результата в .csv файл"
      ],
      "metadata": {}
    },
    {
      "cell_type": "code",
      "execution_count": 49,
      "source": [
        "csv.to_csv('../csv/result.csv')"
      ],
      "outputs": [],
      "metadata": {}
    },
    {
      "cell_type": "markdown",
      "source": [
        "Проверка числа несуществующих вакансий"
      ],
      "metadata": {}
    },
    {
      "cell_type": "code",
      "execution_count": 48,
      "source": [
        "display(csv[csv.raw_json=={'description': '404 Page Not Found'}])"
      ],
      "outputs": [
        {
          "output_type": "display_data",
          "data": {
            "text/html": [
              "<div>\n",
              "<style scoped>\n",
              "    .dataframe tbody tr th:only-of-type {\n",
              "        vertical-align: middle;\n",
              "    }\n",
              "\n",
              "    .dataframe tbody tr th {\n",
              "        vertical-align: top;\n",
              "    }\n",
              "\n",
              "    .dataframe thead th {\n",
              "        text-align: right;\n",
              "    }\n",
              "</style>\n",
              "<table border=\"1\" class=\"dataframe\">\n",
              "  <thead>\n",
              "    <tr style=\"text-align: right;\">\n",
              "      <th></th>\n",
              "      <th>id</th>\n",
              "      <th>raw_json</th>\n",
              "      <th>description</th>\n",
              "    </tr>\n",
              "  </thead>\n",
              "  <tbody>\n",
              "    <tr>\n",
              "      <th>14</th>\n",
              "      <td>35163246</td>\n",
              "      <td>{'description': '404 Page Not Found'}</td>\n",
              "      <td>[[404, page, not, found]]</td>\n",
              "    </tr>\n",
              "    <tr>\n",
              "      <th>23</th>\n",
              "      <td>30988384</td>\n",
              "      <td>{'description': '404 Page Not Found'}</td>\n",
              "      <td>[[404, page, not, found]]</td>\n",
              "    </tr>\n",
              "    <tr>\n",
              "      <th>26</th>\n",
              "      <td>18114737</td>\n",
              "      <td>{'description': '404 Page Not Found'}</td>\n",
              "      <td>[[404, page, not, found]]</td>\n",
              "    </tr>\n",
              "    <tr>\n",
              "      <th>45</th>\n",
              "      <td>20750743</td>\n",
              "      <td>{'description': '404 Page Not Found'}</td>\n",
              "      <td>[[404, page, not, found]]</td>\n",
              "    </tr>\n",
              "    <tr>\n",
              "      <th>59</th>\n",
              "      <td>14715563</td>\n",
              "      <td>{'description': '404 Page Not Found'}</td>\n",
              "      <td>[[404, page, not, found]]</td>\n",
              "    </tr>\n",
              "    <tr>\n",
              "      <th>...</th>\n",
              "      <td>...</td>\n",
              "      <td>...</td>\n",
              "      <td>...</td>\n",
              "    </tr>\n",
              "    <tr>\n",
              "      <th>3454</th>\n",
              "      <td>32808931</td>\n",
              "      <td>{'description': '404 Page Not Found'}</td>\n",
              "      <td>[[404, page, not, found]]</td>\n",
              "    </tr>\n",
              "    <tr>\n",
              "      <th>3456</th>\n",
              "      <td>10921023</td>\n",
              "      <td>{'description': '404 Page Not Found'}</td>\n",
              "      <td>[[404, page, not, found]]</td>\n",
              "    </tr>\n",
              "    <tr>\n",
              "      <th>3464</th>\n",
              "      <td>20942762</td>\n",
              "      <td>{'description': '404 Page Not Found'}</td>\n",
              "      <td>[[404, page, not, found]]</td>\n",
              "    </tr>\n",
              "    <tr>\n",
              "      <th>3465</th>\n",
              "      <td>20460834</td>\n",
              "      <td>{'description': '404 Page Not Found'}</td>\n",
              "      <td>[[404, page, not, found]]</td>\n",
              "    </tr>\n",
              "    <tr>\n",
              "      <th>3488</th>\n",
              "      <td>21642938</td>\n",
              "      <td>{'description': '404 Page Not Found'}</td>\n",
              "      <td>[[404, page, not, found]]</td>\n",
              "    </tr>\n",
              "  </tbody>\n",
              "</table>\n",
              "<p>517 rows × 3 columns</p>\n",
              "</div>"
            ],
            "text/plain": [
              "            id                               raw_json  \\\n",
              "14    35163246  {'description': '404 Page Not Found'}   \n",
              "23    30988384  {'description': '404 Page Not Found'}   \n",
              "26    18114737  {'description': '404 Page Not Found'}   \n",
              "45    20750743  {'description': '404 Page Not Found'}   \n",
              "59    14715563  {'description': '404 Page Not Found'}   \n",
              "...        ...                                    ...   \n",
              "3454  32808931  {'description': '404 Page Not Found'}   \n",
              "3456  10921023  {'description': '404 Page Not Found'}   \n",
              "3464  20942762  {'description': '404 Page Not Found'}   \n",
              "3465  20460834  {'description': '404 Page Not Found'}   \n",
              "3488  21642938  {'description': '404 Page Not Found'}   \n",
              "\n",
              "                    description  \n",
              "14    [[404, page, not, found]]  \n",
              "23    [[404, page, not, found]]  \n",
              "26    [[404, page, not, found]]  \n",
              "45    [[404, page, not, found]]  \n",
              "59    [[404, page, not, found]]  \n",
              "...                         ...  \n",
              "3454  [[404, page, not, found]]  \n",
              "3456  [[404, page, not, found]]  \n",
              "3464  [[404, page, not, found]]  \n",
              "3465  [[404, page, not, found]]  \n",
              "3488  [[404, page, not, found]]  \n",
              "\n",
              "[517 rows x 3 columns]"
            ]
          },
          "metadata": {}
        }
      ],
      "metadata": {}
    }
  ]
}